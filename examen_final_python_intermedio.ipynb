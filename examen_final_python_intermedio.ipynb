{
  "nbformat": 4,
  "nbformat_minor": 0,
  "metadata": {
    "colab": {
      "provenance": [],
      "include_colab_link": true
    },
    "kernelspec": {
      "name": "python3",
      "display_name": "Python 3"
    },
    "language_info": {
      "name": "python"
    }
  },
  "cells": [
    {
      "cell_type": "markdown",
      "metadata": {
        "id": "view-in-github",
        "colab_type": "text"
      },
      "source": [
        "<a href=\"https://colab.research.google.com/github/erick1819/PYTHON-INTERMEDIO-/blob/main/examen_final_python_intermedio.ipynb\" target=\"_parent\"><img src=\"https://colab.research.google.com/assets/colab-badge.svg\" alt=\"Open In Colab\"/></a>"
      ]
    },
    {
      "cell_type": "markdown",
      "source": [
        "<img src=\"https://www.ctic.uni.edu.pe/wp-content/uploads/2022/04/588px-x-348px-web-1.png\" alt=\"HTML5 Icon\" width=\"900\" height=\"350\" >"
      ],
      "metadata": {
        "id": "N0CNHB3Xo-Vt"
      }
    },
    {
      "cell_type": "markdown",
      "source": [
        "\n",
        "<h1 align=center><font size = 5>EXAMEN FINAL PYTHON INTERMEDIO\n",
        "</font></h1>\n",
        "\n",
        "---"
      ],
      "metadata": {
        "id": "fHC5brl-jDeo"
      }
    },
    {
      "cell_type": "markdown",
      "source": [
        "1. **(2 Puntos)** ¿Qué es Pep 8? Describa su utilidad y un ejemplo de cómo utilizarla."
      ],
      "metadata": {
        "id": "5fUcqkhojA-d"
      }
    },
    {
      "cell_type": "markdown",
      "source": [
        "Es un documento que proporciona pautas y mejoras practicas sobre como escribir codigo python. \n",
        "Su utilidad es darle un orden y una buena esterica ala sintaxis"
      ],
      "metadata": {
        "id": "yIlJ4boTV8IK"
      }
    },
    {
      "cell_type": "code",
      "source": [
        "# Modulos y datos \n",
        "import os \n",
        "import numpy as np\n",
        "import pandas as pd\n",
        "import matplotlib.pyplot as plt\n",
        "import seaborn as sns "
      ],
      "metadata": {
        "id": "F-7CUOswWPta"
      },
      "execution_count": 1,
      "outputs": []
    },
    {
      "cell_type": "code",
      "source": [
        "!pip install pycodestyle pycodestyle_magic\n",
        "!pip install flake8\n",
        "%load_ext pycodestyle_magic"
      ],
      "metadata": {
        "id": "hzmhmt3VRyMp",
        "outputId": "167c840f-4325-453c-9d08-12eb49a62b83",
        "colab": {
          "base_uri": "https://localhost:8080/"
        }
      },
      "execution_count": null,
      "outputs": [
        {
          "output_type": "stream",
          "name": "stdout",
          "text": [
            "Looking in indexes: https://pypi.org/simple, https://us-python.pkg.dev/colab-wheels/public/simple/\n",
            "Collecting pycodestyle\n",
            "  Downloading pycodestyle-2.10.0-py2.py3-none-any.whl (41 kB)\n",
            "\u001b[2K     \u001b[90m━━━━━━━━━━━━━━━━━━━━━━━━━━━━━━━━━━━━━━━━\u001b[0m \u001b[32m41.3/41.3 KB\u001b[0m \u001b[31m1.8 MB/s\u001b[0m eta \u001b[36m0:00:00\u001b[0m\n",
            "\u001b[?25hCollecting pycodestyle_magic\n",
            "  Downloading pycodestyle_magic-0.5-py2.py3-none-any.whl (9.5 kB)\n",
            "Installing collected packages: pycodestyle_magic, pycodestyle\n",
            "Successfully installed pycodestyle-2.10.0 pycodestyle_magic-0.5\n",
            "Looking in indexes: https://pypi.org/simple, https://us-python.pkg.dev/colab-wheels/public/simple/\n",
            "Collecting flake8\n",
            "  Downloading flake8-6.0.0-py2.py3-none-any.whl (57 kB)\n",
            "\u001b[2K     \u001b[90m━━━━━━━━━━━━━━━━━━━━━━━━━━━━━━━━━━━━━━━━\u001b[0m \u001b[32m57.8/57.8 KB\u001b[0m \u001b[31m2.5 MB/s\u001b[0m eta \u001b[36m0:00:00\u001b[0m\n",
            "\u001b[?25hRequirement already satisfied: pycodestyle<2.11.0,>=2.10.0 in /usr/local/lib/python3.9/dist-packages (from flake8) (2.10.0)\n",
            "Collecting mccabe<0.8.0,>=0.7.0\n",
            "  Downloading mccabe-0.7.0-py2.py3-none-any.whl (7.3 kB)\n",
            "Collecting pyflakes<3.1.0,>=3.0.0\n",
            "  Downloading pyflakes-3.0.1-py2.py3-none-any.whl (62 kB)\n",
            "\u001b[2K     \u001b[90m━━━━━━━━━━━━━━━━━━━━━━━━━━━━━━━━━━━━━━━━\u001b[0m \u001b[32m62.8/62.8 KB\u001b[0m \u001b[31m5.9 MB/s\u001b[0m eta \u001b[36m0:00:00\u001b[0m\n",
            "\u001b[?25hInstalling collected packages: pyflakes, mccabe, flake8\n",
            "Successfully installed flake8-6.0.0 mccabe-0.7.0 pyflakes-3.0.1\n"
          ]
        }
      ]
    },
    {
      "cell_type": "code",
      "source": [
        "%%pycodestyle\n",
        "my_list=['excel', 'word', 'powerpoint']\n",
        "for col in my_list:\n",
        "  print(f'las herramientas de office mas importantes son {col}')\n"
      ],
      "metadata": {
        "id": "mnES7xkIUwL5"
      },
      "execution_count": null,
      "outputs": []
    },
    {
      "cell_type": "code",
      "source": [
        "%%pycodestyle\n",
        "my_list = ['excel', 'word', 'powerpoint']\n",
        "for col in my_list:\n",
        "    print(f'las herramientas de office mas importantes son {col}')"
      ],
      "metadata": {
        "id": "PwEHSl3SZ_cI",
        "outputId": "37764c48-a62f-4310-f8a7-0c052fb9a3ea",
        "colab": {
          "base_uri": "https://localhost:8080/"
        }
      },
      "execution_count": null,
      "outputs": [
        {
          "output_type": "stream",
          "name": "stderr",
          "text": [
            "INFO:pycodestyle:5:1: W391 blank line at end of file\n"
          ]
        }
      ]
    },
    {
      "cell_type": "markdown",
      "source": [
        "---\n",
        "2. **(5 puntos)** Desarrolle una función que trabaje con argparse. Dicha función debe recibir como atributos debe recibir un tipo de animal y tratamiento y devolver como resultado el costo del servicio.\n",
        "\n",
        "**Lista de precios**\n",
        "> Corte de pelo\n",
        "*   Gato: 20\n",
        "*   Perro: 30\n",
        "*   Conejo: 15\n",
        "\n",
        "> Baño\n",
        "*   Gato: 15\n",
        "*   Perro: 20\n",
        "*   Conejo: 10\n",
        "\n",
        "> Desparasitación\n",
        "*   Gato: 35\n",
        "*   Perro: 50\n",
        "*   Conejo: 25\n",
        "\n",
        "\n",
        "\n",
        "\n",
        "\n"
      ],
      "metadata": {
        "id": "HOYiwhu_j-Pj"
      }
    },
    {
      "cell_type": "code",
      "source": [],
      "metadata": {
        "id": "roJzDezNv2Ow"
      },
      "execution_count": null,
      "outputs": []
    },
    {
      "cell_type": "code",
      "source": [
        "def evaluarAprobacion(name=input(\"ingrese tipo de animal \"), tratamiento=input(\"ingrese tipo de tratamiento\")):\n",
        "  if name == 'gato' and tratamiento== 'Corte de pelo':\n",
        "    print('el costo es 20 soles')\n",
        "  if name == 'gato' and tratamiento== 'Baño':\n",
        "    print('el costo es 15 soles')\n",
        "  if name == 'gato' and tratamiento== 'Desaparasitacion':\n",
        "    print('el costo es 35 soles')\n",
        "  if name == 'perro' and tratamiento== 'Corte de pelo':\n",
        "    print('el costo es 30 soles')\n",
        "  if name == 'perro' and tratamiento== 'Baño':\n",
        "    print('el costo es 20 soles')\n",
        "  if name == 'perro' and tratamiento== 'Desaparasitacion':\n",
        "    print('el costo es 50 soles')\n",
        "  if name == 'Conejo' and tratamiento== 'Corte de pelo':\n",
        "    print('el costo es 15 soles')\n",
        "  if name == 'Conejo' and tratamiento== 'Baño':\n",
        "    print('el costo es 10 soles')\n",
        "  if name == 'Conejo' and tratamiento== 'Desaparasitacion':\n",
        "    print('el costo es 25 soles')\n"
      ],
      "metadata": {
        "id": "1S1-Ajrj9Kl_",
        "outputId": "5ab4d12e-345c-4cae-8ff7-440903d7e790",
        "colab": {
          "base_uri": "https://localhost:8080/"
        }
      },
      "execution_count": null,
      "outputs": [
        {
          "name": "stdout",
          "output_type": "stream",
          "text": [
            "ingrese tipo de animal gato\n",
            "ingrese tipo de tratamientocorte de pelo\n"
          ]
        }
      ]
    },
    {
      "cell_type": "code",
      "source": [
        "import argparse\n",
        "import sys\n",
        "\n",
        "def main():\n",
        "  parser = argparse.ArgumentParser()\n",
        "  parser.add_argument('--tipo_animal', type = str, default = 'null', help = 'Nombre del alumno')\n",
        "  parser.add_argument('--tratamiento', type = str, default = 'null', help = 'Ingrese la nota del alumno')\n",
        "  args = parser.parse_args()\n",
        "  sys.stdout.write(str(evaluarAprobacion(args)))\n",
        "  \n",
        "def evaluarAprobacion(args):\n",
        "  if args.nota >= 14:\n",
        "    resultado = f'felicidades {args.name}, has aprobado!!'\n",
        "    aprobacion = 1\n",
        "  else:\n",
        "    aprobacion = 0\n",
        "    resultado = f'lo lamento {args.name}, intenta otra vez!!'\n",
        "  return resultado\n",
        "\n"
      ],
      "metadata": {
        "id": "eqveG_TrksW_"
      },
      "execution_count": null,
      "outputs": []
    },
    {
      "cell_type": "code",
      "source": [],
      "metadata": {
        "id": "8Q4Su1IMlXS9"
      },
      "execution_count": null,
      "outputs": []
    },
    {
      "cell_type": "markdown",
      "source": [
        "---\n",
        "\n",
        "3. **(10 puntos)** Descargue la base de datos de casos positivos de covid del siguiente [enlace](https://www.datosabiertos.gob.pe/dataset/casos-positivos-por-covid-19-ministerio-de-salud-minsa) y carguelos en pandas, luego de esto grafique un gráfico de lineas que muestre la cantidad de casos mes a mes de positivos de covid en la región de Lima."
      ],
      "metadata": {
        "id": "YirzVNA7lcyZ"
      }
    },
    {
      "cell_type": "markdown",
      "source": [
        "\n",
        "\n",
        "\n",
        "![Captura de Pantalla 2023-03-04 a la(s) 21.24.04.png](data:image/png;base64,iVBORw0KGgoAAAANSUhEUgAAA4QAAAEBCAYAAAAgrGt5AAAYe2lDQ1BJQ0MgUHJvZmlsZQAAWIWVeQc8le3//3WffY59jr33Jnvvvfcm4VjHimOGEkkZJRKiVJJZqRQqEWkoZfSQJJGMSqGiMvK7jXqe7/P9v/6/1+96va77ep/P9bk+61r359wAcI34RkaGIRgBCI+IoTqYGvC7uXvwY6cBBBCABEQBsy85OlLfzs4KwOV3+59laRDmhstzmQ1Z/93//y1E/4BoMgCQF4z9/KPJ4TC+CwDqFDmSGgMAZoMuFB8TuYH3w5iZChsI44INHLSFqzew3xZu2eRxcjCEcS8AOFpfX2oQAPQjMJ0/jhwEy6FfhfuIEf6UCABYYM8xOuRgX38AuOxgHunw8N0bOBnG4jB/JIwrYKzm9w+ZQf8h3++PfF/foD94y6/NgjOiREeG+e75P4bmfy/hYbG/dYjClTaYauaw4T8cw6HQ3ZYbmBbGsxF+NrYbsYbxD4r/VtwBQBCCY82ct/gR3ORoQzh+gBXGcv6+RpYw5oaxSUSYjdU23S+QYmIOYzhmiARKjLkTjNlhfDgg2thxm+csdbfDti5EYyDVUH+b/siXuql3Q9dobKiz/rb8L8EB5tvykfSJwU6uMCbAWDiO4mIDY3oYy0aHOlpu82glBhva/Oahxjps2C8MY4eACFODLfnIuECqicM2f1Z49G9/kWeDKeY22/haTLCT2VZ8kJ1k3037YV+QvQER+s6/5QREu1n99sU/wMh4y3fkTECEs+O2nB+RMQYOW2NRhMgwu21+lGBAmOkGXRDGStFxjttjUS4x8OLcko8KjIyxc9qyE5UY4mtht2UP6hiwAobACPCDWLj6gd0gBFCezTbNwr+2ekyAL6CCIBAAZLYpv0e4bvZEwE9HkAg+wSgARP8ZZ7DZGwDiYPraH+rWUwYEbvbGbY4IBVMwDgeWIAz+Hbs5KuKPNhfwDqZQ/ku7L1zJsL1hcN3o/3/Tf1P/pujDFKttSuxvjfwMvzkxxhgjjBnGBCOB4kTpoDRRVvBTD64KKDWU+m8//uZHT6H70G/RA+gx9MtdlDTqv6y0BmOwfJPtWPj9MxYoUVimMsoApQ1LhyWjWFGcQAalBOvRR+nCmpVhquG23RtR4f+X7P/w4B+zsc2Hl8Mj8Gx4Pbz4v0fSS9Ir/5GyEet/xmfLVr8/8Tb80/Nv/Yb/iL4/3Fr+mxN5GNmAfIhsR3YhW5BNgB/ZhmxGdiPvbOA/q+vd5ur6rc1h055QWA7lv/T5buvciGS0XJ3ce7nVrb6YgISYjY1nuDtyD5USFBzDrw/fDgH85hFkWWl+BTkFRQA27pqt4+urw+YdArH2/E0jHwRAdR4A/PLftPCvAFyB9z6/9d80EW94+2EAqJ4ix1LjtmiojQcaPiUY4J3GAXiBEBCH/VEAKkAT6AFjYAFsgRNwB95wlIPhdU4F8SAZpIIMkA2OgROgBJwB50E1uASugSbQAtrBA/AE9IIB8ApePZPgI5gHS2AFgiAsRAeRIA6IDxKBpCAFSA3SgYwhK8gBcod8oCAoAoqFkqEDUDaUD5VA56Aa6Cp0E2qHuqA+6CU0Dr2HvkDLCCSCFsGM4EGIInYg1BD6CEuEE2InIggRhUhEpCOOIooR5YiLiEZEO+IJYgAxhviIWEQCJA2SFSmAlEGqIQ2RtkgPZCCSityHzEIWIsuRl5G34Hl+jhxDziJ/ojAoEoofJQOvYDOUM4qMikLtQ+WgSlDVqEZUJ+o5ahw1j/qFpkNzo6XQGmhztBs6CB2PzkAXoivRN9D34b00iV7CYDCsGDGMKrwX3TEhmCRMDuY0ph5zF9OHmcAsYrFYDqwUVhtri/XFxmAzsCexF7Ft2H7sJPYHjgbHh1PAmeA8cBG4NFwhrhbXiuvHTeNW8Ix4EbwG3hbvj9+Dz8VX4G/he/CT+BUCE0GMoE1wIoQQUgnFhMuE+4QRwlcaGhpBGnUaexoKzX6aYporNI9oxml+0hJpJWkNab1oY2mP0lbR3qV9SfuVjo5OlE6PzoMuhu4oXQ3dPbpRuh/0JHpZenN6f/oU+lL6Rvp++s8MeAYRBn0Gb4ZEhkKGBoYehllGPKMooyGjL+M+xlLGm4wvGBeZSEzyTLZM4Uw5TLVMXUwzRCxRlGhM9CemE88T7xEnSEiSEMmQRCYdIFWQ7pMmmTHMYszmzCHM2cyXmJ8xz7MQWZRYXFgSWEpZ7rCMsSJZRVnNWcNYc1mvsQ6yLrPxsOmzBbBlsl1m62f7zs7FrscewJ7FXs8+wL7Mwc9hzBHKkcfRxPGaE8UpyWnPGc9Zxnmfc5aLmUuTi8yVxXWNa5gbwS3J7cCdxH2eu5t7kYeXx5Qnkuckzz2eWV5WXj3eEN4C3lbe93wkPh0+Cl8BXxvfB34Wfn3+MP5i/k7+eQFuATOBWIFzAs8EVgTFBJ0F0wTrBV8LEYTUhAKFCoQ6hOaF+YSthZOF64SHRfAiaiLBIkUiD0W+i4qJuooeEm0SnRFjFzMXSxSrExsRpxPXFY8SLxf/SwIjoSYRKnFaolcSIaksGSxZKtkjhZBSkaJInZbqk0ZLq0tHSJdLv5ChldGXiZOpkxmXZZW1kk2TbZL9vEN4h8eOvB0Pd/ySU5YLk6uQeyVPlLeQT5O/Jf9FQVKBrFCq8JcinaKJYopis+KCkpRSgFKZ0pAySdla+ZByh/KaiqoKVeWyyntVYVUf1VOqL9SY1ezUctQeqaPVDdRT1FvUf2qoaMRoXNOY05TRDNWs1ZzREtMK0KrQmtAW1PbVPqc9psOv46NzVmdMV0DXV7dc962ekJ6/XqXetL6Efoj+Rf3PBnIGVIMbBt8NNQz3Gt41QhqZGmUZPTMmGjsblxiPmgiaBJnUmcybKpsmmd41Q5tZmuWZvTDnMSeb15jPW6ha7LXotKS1dLQssXxrJWlFtbpljbC2sD5uPWIjYhNh02QLbM1tj9u+thOzi7K7bY+xt7MvtZ9ykHdIdnjoSHLc5VjruORk4JTr9MpZ3DnWucOFwcXLpcblu6uRa77rmNsOt71uT9w53SnuzR5YDxePSo9FT2PPE56TXspeGV6DO8V2Juzs8ub0DvO+s4thl++uBh+0j6tPrc+qr61vue+in7nfKb95siG5iPzRX8+/wP99gHZAfsB0oHZgfuBMkHbQ8aD3wbrBhcGzFENKCWUhxCzkTMj3UNvQqtD1MNew+nBcuE/4zQhiRGhE527e3Qm7+yKlIjMix6I0ok5EzVMtqZXRUPTO6OYYZvilvjtWPPZg7HicTlxp3I94l/iGBKaEiITuPZJ7MvdMJ5okXkhCJZGTOpIFklOTx/fq7z23D9rnt68jRSglPWVyv+n+6lRCamjq0zS5tPy0bwdcD9xK50nfnz5x0PRgXQZ9BjXjxSHNQ2cOow5TDj/LVMw8mfkryz/rcbZcdmH2ag455/ER+SPFR9aPBh59lquSW3YMcyzi2GCebl51PlN+Yv7EcevjjQX8BVkF307sOtFVqFR4pohQFFs0VmxV3HxS+OSxk6slwSUDpQal9ae4T2We+n7a/3R/mV7Z5TM8Z7LPLJ+lnB06Z3qusVy0vPA85nzc+akKl4qHF9Qu1FRyVmZXrlVFVI1VO1R31qjW1NRy1+bWIepi695f9LrYe8noUvNlmcvn6lnrs6+AK7FXPlz1uTp4zfJaR4Naw+XrItdP3SDdyGqEGvc0zjcFN401uzf33bS42XFL89aN27K3q1oEWkrvsNzJbSW0preutyW2Ld6NvDvbHtQ+0bGr49U9t3t/ddp3Prtvef/RA5MH9x7qP2x7pP2opUuj6+ZjtcdNT1SeNHYrd994qvz0xjOVZ409qj3Nveq9t/q0+lr7dfvbnxs9f/CX+V9PBmwG+gadB4deeL0YG/IfmnkZ9nJhOG545dX+EfRI1mvG14Wj3KPlbyTe1I+pjN0ZNxrvfuv49tUEeeLju+h3q5PpU3RThdN80zUzCjMt703e937w/DD5MfLjymzGJ6ZPpz6Lf74+pzfXPe82P7lAXVj/kvOV42vVN6VvHYt2i6NL4Usr37N+cPyo/qn28+Gy6/L0SvwqdrV4TWLt1i/LXyPr4evrkb5U381XASRcEYGBAHypAoDOHQASnLcRPLdywe2ChF8+EHDrAslCHxHp8I3ag8pAm2CQmCfYYlwE3oogQYOlmaXtp2uir2KoZKxnaiZ2kJ4w97IMsb5hm2H/yLHAucy1xoPgxfIR+OkEiIJEIVZhdhE2UXYxbnEeCX5JfilBaWEZUVmxHdJycvKKCiqKGkq6ysYq5qrmaibqJhommoZa+tpaOhq6Snqy+qIGPIbMRgSjdeOvJlOmL826zVssqi2PW6VYh9i42RrbKduLOXA5MjrhnJEukCvCDeWO92D05PAS3injLbFL2IfPl9OPhUzyJwaQAlmDuIIFKdIhqqEmYS7hlIjk3fmRFVFnqcXReTE5sZlxWfFHE4r3VCe2Jr3aC/ZJp+zafzL11QHB9N0H2w9hDgtlKmQZZDvmBB5JPJqXW33sbt5w/mIB0wmZQouiwOIDJ8tKbpb2n3p3evEM9izHOclyrfO2FX4XYioPVhVWV9fcrH1cN3zxw6Wf9bgrbFfFr+k2uF+PupHZeLqpvrntZtetntu9LU/udLRebSu9m9K+q0PjHvHeVOfN+7UPTj3MfpTQ5ffY/IlsN3337NP7z071RPYa9JH6JvqvPU/9y35AZBA1+P5F91D9y/zhmFcuI2qvOV+vjo6+aR+7MJ75dveE8zutSWF4lS1N/zVz/X3Rh5SPYbPkT+TPkXPZ8zcW5r7qfTu3RPpe/FNq+dlqyi+N9fV/zL8CcgaVj7bEsGBeYxtwOfggghGNJC0D7SrdNP0QwxDjG6Z3xE+kr8xLLGusK2xr7L841jiXuL5yz/FM8Y7w9fPfF7gpWCmULRwmYiUqKYYX+yDeJVEjmSVFkbaUkZGlk53b0Sd3Xb5IIVmRrGSvbKCioCqgRlRbV/+sMaLZpdWoXa6Toxuv56NvYaBgyGmEMHpv/MzkimmeWbS5k4WKJZvlitUb63s2tbZ5dkn2gQ6OjvpO8s4CLiRXrOuy20f3EY9uzzte9TvPeh/fdcgn2ZfqRyH7+nsEOAXaB9kEW1IsQ8xCNcNkwwUiWHbTRCIiV6N+UH9Gr8Wi44jxQgkae5wSo5MKk1v2TqXQ7OdLlUnTPmCT7ncwPuPIocrDbZnDWd9zmI8oHLXPjTh2JK8u/9HxdwXrhZxFysV2J0NLDpaeOdV8urds5syvc8zlEue1K+wukCtjqw5VF8PnXHfd3CXiZcV6xytRV3Ov1TV0Xh+58aUJ08xxU/KWxm2LFrc7ga0xbSl3U9sPdBy8l9F56P7hB1kPcx4d6Try+MiTI905T7OfZfYc6k3vS+3f+zzur6iB3YORL2KGkl4eHD7+qnyk4fWD0ZdvPo2Dt8QJwXfykzpT5tN+M2fff/qoPJv0qfXzr3nNhbgvl7++W2Rfsvye8qPh5/QK96rDWtavzu35N0boI3cgP6Pa0Ycwjlhx7ALuJj6D4EDDTTNKe54unF6dAcHQzpjOZEFkIPaSjjHbsjCwPGXNYjNhh9ibOSI4hTiHuLK5dbg/8ZTymvF+4yvjN+P/LFAgqCE4IrRXmF+4VcRbZFW0WExJrFs8QHxV4riklGSblKPUlHSqjIjMkGzODoMd3+Sq5D0V6BTaFCOVBJT6ldNUFFTGVXPVtNU+qZdqmGssap7Xstf6pV2n466L1b2hR9Yn6t81iDTkN+w1SjNWMp42KTG1hd87bptHWUhZvLMss/KwZrV+bpNv62BHshu0P+ng7Sjs+MHpqnOii7Erg+uwW6V7tIeBJ63noNeZncHeCt4ru+775Pl6+Un4LZE7/Y8H+AYqBqGCBoNrKSkhTqHSYeiwN+G3Iop3x0e6RmlQeaNR0bMxA7HtcfXxZQm5e1IT45NCk/337tznluK03yHVPs3+gEO600H3jJ2HAg6HZkZnpWQfzsk/Una0Jrfx2L28vvzR459PoAoliryKj528X7JySva0X9mJM4/PrpYrnA+oKLnQU4Wq1qqJr62v+3hJ8nJIfe2VuWsqDfuvdzdyNIU1d97iu53S8rbVqq2lXb7jYqfU/asPDR4NP07o5nva23Okz+m56AAY/Dj0bvjDa/BGZHzXRO0UeibxI/hUMU/+qruk9tN5tXhj/rf+E9woGBUAThwCYON/HocaAHIuAiC2BwA2OPe0owPASR0gBEwBtNgBIAvtP/cHBCeeBEACPEASqAEzOL8Mg3PKIlAPusAEWIPYIWXIEYqGTkDN0Gs455NGuCBSEfWIUSQD0gAZj7yEnIKzNC9UKeoVnIn5oC+gP2FUMKmYZ1gebDi2DUfCUXDteE58LL6foEgoIqzSkGme0qrTVtOx0+XQI+iT6L8zxDIsMSYyQUxZRFZiBUmN1MscwoJlucBqzDrFdphdir2XI4aTg7OVy5+bhvsajwcvkvcSnyecEfQJ5AraCjEJPRcuEvEUFRCdErsoHi2hIQlJdknlSXvCq3Netn9Hi1ylfL7CPkWKkqOyhgqfKqQ6ptaiXqARoqmtRa81ol2jE6Orq4fT69NvMLhu2GR0y7jV5J5pl1mP+aDFqOW01YL1ii3OjtVe1EHN0cqJ7JzsUuza6jbjQfLU94rcWe494EPw1fdLIjf7fw9UC0oKbg8hhDqHVYQv7jaLLIuai9aKyY4djVdKOLZnIck1+cE+7ZTWVMu0ifTMDO3DILMv+8qRU7n5eWbHkQX3C/OKA0oMT0mXCZ4VKVeqsKmMqi6tfXIJ1KtetWlwvxHclHzzxO1rd/rbljp4O80exDw6+/hZ91qPTN/O50cH7g6Rhskjl0Znx7kn1Cb1puXf0394MXv084659gWzL53fFBZLlpZ/2P+8sLywqrGW8uvu5vmxNf9EeP4lgCowAa4gBOwDBaAOdIJR8AMiQXKQDRQBHYMaoJcIgJCAs/w0xFXEWziPt0KmI9uQKyht1AFUN5odHYhuxOAx3phGLCM2DPsEJ43LxS3ivfAPCLKEIhokTRTNOK0z7WM6Q7pWei36O3AW+4jRnnEUzlPXiQUkWdJT5gg482xm9WWjYWtmD+Rg5XjIuYdLmmucu4jHlhfH28G3n99AACPwVLBQyFdYVnhVpFu0TCxK3FiCS+KL5GOp89IpMp6ymjsk5Njl8fKrCnOKE0ovlB+r3Fa9qFaifkiDqumpZagtqcOos6g7rNeqX29w1bDBqMn4tkmbaafZY/NeixeWb6ymrRdsVuxw9qwOYo7qTtbO/i57XUvcbroPe6x5Ce608I7Zddanxw8iq/hHBNQETgWLUkJCroYuh5tGFO6eidKi7o1ui0XFWcUXJUwlqicdTZ7eZ5xSnUqftufANHye9B62yHyYbZbTfdQhdywv5Thvwd3CwGL6k82l/qdJZQ/O7i1XOf/lwtWq2BqtOszFgcsXriRf87qu0kjfNHHz+u0Dd2za2O+Od9R0Uh9oPcJ2DT6pebq/x6tP57nIANPgoyHnl5OvEl8zj14bcxpfnaiedJ9mmOn6cHjW8jPj3IuFs19DFlW+I370LJeuBv1S3J5/JMAA2s0TQByowCvADYSDg+AMuA2G4f0vCFlAsVAFNIigQRjBO78DiUPaI88gv6AsUFVoPJqKfoNxgne7DXYAR8b9xBcS1AmTNCdp9WhH6JLo+em7GOIZJRknmM4Q/UgSpO/MD1nKWJPYPNn1OKQ42blouBHcqzzLvKv8QAALv4HyCMuKaIs6iAWJ75c4KXkDzrvnZRl3KMi5yu9TqFDsUVpRkVB1V8tX79dk1nLXrtCZ09PWP2LwxkjRONtk3EzLvNDii5Wd9SVbWrsw+8eOkk7Zzh9cLdxqPfCeFK+H3qK7DvpM+hmSKwOQgf5B9yiiIRmhM+FWEfWRLFEJ1LEYo9jL8ewJ+/Z8THKD96lKSlUqR9rRdNTB5Iwvhz0yr2at5zgdqTq6fMwx7/JxQgHlxIMiqeKck3OlrqfulImeyYPPfv/z3Rc0K6uqmWoSa6cuOl5qqRe9knt1qcH7+oNGmaZjzfO37G9fvkNoDWxrbSd2BNxrvI96YPew9NHEY4knlO7Kp+M9nL32fQf7rz9/O0AYlHvhMER9eXS45tW9kYHXU6MLb1bHobfYCcw7zCSYXJ76ND068/R984fyj4dnIz5Zf5aaw869mW9eyPzi8VXi65dvLYtpS0bfMd87f6T81Py5sHxhxWOVsNq4Rv5F9+vauvvG/EcHKipsXh8QrQEA6NH19a+iAGDzAVjLW19fKV9fXzsPJxsjANwN2/rOtHnXMAJwlmsD9V35svrvbzxb36D+kcf8uwWbN9GmVvgm2mzhWwn8D7A55TAF4rhvAAAAVmVYSWZNTQAqAAAACAABh2kABAAAAAEAAAAaAAAAAAADkoYABwAAABIAAABEoAIABAAAAAEAAAOEoAMABAAAAAEAAAEBAAAAAEFTQ0lJAAAAU2NyZWVuc2hvdJ3sHdIAAAHWaVRYdFhNTDpjb20uYWRvYmUueG1wAAAAAAA8eDp4bXBtZXRhIHhtbG5zOng9ImFkb2JlOm5zOm1ldGEvIiB4OnhtcHRrPSJYTVAgQ29yZSA2LjAuMCI+CiAgIDxyZGY6UkRGIHhtbG5zOnJkZj0iaHR0cDovL3d3dy53My5vcmcvMTk5OS8wMi8yMi1yZGYtc3ludGF4LW5zIyI+CiAgICAgIDxyZGY6RGVzY3JpcHRpb24gcmRmOmFib3V0PSIiCiAgICAgICAgICAgIHhtbG5zOmV4aWY9Imh0dHA6Ly9ucy5hZG9iZS5jb20vZXhpZi8xLjAvIj4KICAgICAgICAgPGV4aWY6UGl4ZWxZRGltZW5zaW9uPjI1NzwvZXhpZjpQaXhlbFlEaW1lbnNpb24+CiAgICAgICAgIDxleGlmOlBpeGVsWERpbWVuc2lvbj45MDA8L2V4aWY6UGl4ZWxYRGltZW5zaW9uPgogICAgICAgICA8ZXhpZjpVc2VyQ29tbWVudD5TY3JlZW5zaG90PC9leGlmOlVzZXJDb21tZW50PgogICAgICA8L3JkZjpEZXNjcmlwdGlvbj4KICAgPC9yZGY6UkRGPgo8L3g6eG1wbWV0YT4K0UXoOgAAQABJREFUeAHsnQeYFUXWhg9JkGDAAJgDoK4JMSfMCuqac1aMa1xzzmJYdVV0DWtcwwrimsPibwLzKmAWwYgKmECCgoj+/Raea03TN8zMnZk7zFc8l+6urvhW9Z3z9anu2+y3JJiCCIiACIiACIiACIiACIiACIhAkyPQvMn1WB0WAREQAREQAREQAREQAREQAREIBCQINRFEQAREQAREQAREQAREQAREoIkSkCBsogOvbouACIiACIiACIiACIiACIiABKHmgAiIgAiIgAiIgAiIgAiIgAg0UQIShE104NVtERABERABERABERABERABEZAg1BwQAREQAREQAREQAREQAREQgSZKQIKwiQ68ui0CIiACIiACIiACIiACIiACEoSaAyIgAiIgAiIgAiIgAiIgAiLQRAlIEDbRgVe3RUAEREAEREAEREAEREAERECCUHNABERABERABERABERABERABJooAQnCJjrw6rYIiIAIiIAIiIAIiIAIiIAISBBqDoiACIiACIiACIiACIiACIhAEyUgQdhEB17dFgEREAEREAEREAEREAEREAEJQs0BERABERABERABERABERABEWiiBCQIm+jAq9siIAIiIAIiIAIiIAIiIAIiIEGoOSACIiACIiACIiACIiACIiACTZSABGETHXh1WwREQAREQAREQAREQAREQAQkCDUHREAEREAEREAEREAEREAERKCJEpAgbKIDr26LgAiIgAiIgAiIgAiIgAiIgASh5oAIiIAIiIAIiIAIiIAIiIAINFECEoRNdODVbREQAREQAREQAREQAREQARGQINQcEAEREAEREAEREAEREAEREIEmSqBlE+13k+32qFGjbOrUqaH/nTp1si5dutQ7i+HDh1uzZs1CvV27drX27dvXexsqpcIpU6bY6NGjc83p0aNHbr8Sd+Kxa9eunXXr1q0Sm6k2iYAIiIAIiIAIiIAIlEig2W9JKDFtWZJhUPLJChtuuOEcaWCOHTvWnnjiiVyXO3fubFtvvXXuOL3z+OOP27hx43LRffr0KZtwO+qoo2zEiBGh7IMOOsj4UN8111wT2J9++ullqyvXgdTOBhtskIvp37+/rbbaarnjmuyk+cZlIFiYV1nh6quvtvvuuy+MBf2uj5Cuk2vh6KOPzlX9wgsv5Pbrcyfdrqy6Bw4cGOYJ5xDxjJ0EYRYpxYmACIiACIiACIhA4yFQ7x5CDOBbb701kxDxiIPaipK4fARPQwfEXdwm2tOrV69Mzxjipl+/flWaDJO69ORh6OOpYmwQrpXArAqAIgdZfOMssGNOxcKT/iIGCQhiRHd8Ps6ftR+L0GIC3/Nn1ennGnKb1a40C/rrc1hisCFHS3WLgAiIgAiIgAiIQHkJVNwzhIiSAw880FjaWNOA4eqfmpZR1/kQIVlh6NChWdF1Ghd7edJCoE4rrqfCETN44WLmiBqEHIH9mEEpzXIRyjyLyy2Ut7Z1Fiq7NudKaddFF10UbhpQz8UXX1xtXrVpn/KKgAiIgAiIgAiIgAjUHYF69xDGXeH5sWOPPTZEYbSzbBFvBR+8ZLfddlucPLfPeYzY2oZylVOTduCJ22233WbLireu1FCu9p9xxhlh2WQxYVSu+krpX23qYikjgTJuueWW3DN6zC8Er3tbb7/99nDjAWGYbz7Vph3ez7iMUur0tudrk5dbk23cljh/oXaRp2/fvoEnrKojnvPVF9etfREQAREQAREQAREQgYYj0KCCEIPXPVJs+ey6666BBh5CvGX+/BeGJQb9kCFDgmFKIvIjqviwHz8f50j9eTV/NosyEV14Ij1QxzHHHJMTCh7vW/KcdtppfmhPPvlkTkDgHfIlnrSBc6UE+scnNq45jp8dzCoHDrTfl3mShjJY5umsPB99hBnlEuA7fvx4P53bxtzSz/RRD0srEewE+sjzj9THfrGQzl/o2Unq4CZA7HGjT9QVcypWp88p0pF/l112CVydnd+E6N27d64onx9EUD/t8D4TR7vxXCMmfU4RT+CZTOJ4IQzCyZ8JpM0w8rlGmZThIa7T45hL3n/q8rnp5+OxggsfAnV4vbTj2muv9SxhrnADwucBbeKa8bwkzMeCPIy/t4m09IvrJeYct4tz6fq46ZCen5SlIAIiIAIiIAIiIAIi0LAEKmrJKAYwz3J5cCMUQ96X/LHvgX2W7CF6SgmUh7BzA93zIPgw1NPxfh5D1pcXEoco9RDnqa7B6/3zshBPxQKGN32OOWC00684P32CmYsAyqWtscgpVhfLBGEb56Fe6oFX3IassnhRSTp/us+ejzooM33e+xFz9jylbmPhg1ApFGgzoizuM+lpF0KnWJ/jsmEft7sUURv3nzbA2m84xGWXus+8iG8KkI8+MIfimxxZ5dF+v+7i8x4fz7f4fFZ91JVmGufRvgiIgAiIgAiIgAiIQMMQqChBCAJfzsf+5MmT2RhGugsbhBkGvnsSOY8RzXn3XBHngbR8MEYxVD2wXJV4F3oYyRje+Qz+WOwhUjzE+7wopliIvWppcRKXlVUORrz/RAHlwCAW0Jx3oxtmHugj6ehzqYG2xO2j/9Tn7aceBGO+wHl/aQtpqJs2OO90vvgZNR9j/wkGxiQeu3TeYsfxnMo3vpTBubjN9Jc5EvcZEURczN3bW8j7WayNfj5rrHx+e5pSt4xhPKdoc3zdcC4WoOly02NCXh8T0qaFX5yfdPF84Vw+ARnn074IiIAIiIAIiIAIiED9EmjQJaNZXY2XofnPI2CQuyHKkjxPgwj0NC4IKRNh5AHjnUCciwHK8iV1LJ074IADwpJCRAzevyzDnjgXCxjSlEWdXiZtjEWj15/ekh7DHLHFPmWRD8Pcy/Lz6byxQc2LPZwD6bw8tniifOkp7eL5MLaU731Nl50+HjBgQC4Khs4RDr7skbbDLBZcnilua8wbZp7f08bjGLeXOn25J2nwtsV99vzFtuk8+cqhDg8w9KWliDT30g0bNizMHcpwweyCkLyxR5Bj3m6aNZ84lxXiF7bEyzCZH96erHxZcfnGkPFygU17s9pHfHzzwecQ9eDtY+wJjDPLQePA/PW4uK6Yb5xe+yIgAiIgAiIgAiIgAg1HoOIEoYsikCAOCG4IYxRjgLrgc4OVNC6A2M8KGPIeYk8edSDIXOzlM1oRCBj+Xg8Gc1wmRnCpgfpdTNAn6ncDmzIw0P28l0l9MRtnwHlvE/t4VeM+IIacI9u4D6TPF1xocz4WunDA2+fs2WYJwrgNMW/yp0Pcd87FSxnjPsf76TIKHafzOY90HmdFetrPc3W0nfj4udF0vkLHWWKrUPqYD3l9HGKehfLH5zwvcfH8ZDydCfMhKzDfPDgXP6ZdPmY+D/wc23g+xP2J02hfBERABERABERABESgMghUnCCMDV9f4ojxmn4erjb40kZqhw4dcsXF9ecif9/BEHYhhicxNpqrY/hjkLsww7CmTjewiccALxbiuuO0lNWzZ89cVLqvuRPV2EmXEQsq6osFY1ax6fxZaTyOsS7Ut2J1eTnxNj2mhdqDZ8uXStIWBDsfQuwpjcuvq/1YWNW2jrgs9t3jW0q5aV7p8S+lDKURAREQAREQAREQARGoTAIVJwhjr5sbsRjobtQjmFx8YajH3rFSEbt3JCt9LA7T5/GyuCBEwHk5tCltNKfzpo8RNu6VZFmhB++bH+fb+hLa9PnqtiOdP+uYfsYiIE6TLz5OU519yvMbAel8cK5JiAVmsTIYF94GyjiTL55fPvbVEVM1aW+l5fFnebPaVe7xz6pDcSIgAiIgAiIgAiIgAnVHoKIEISIrXubm4sjFIBjw4LgHDfEYG+yFMCGUvGy8e7GnKRahhQQVAtWXS7oYpM64rEJtiM/x7KILQp7D8xAv7fM4tul2wcEFM+dhxDEGunu0iIdpTQSM95My4ucq6Xe8TDDdLtITaEvM28ds1tmq/8dlIMj9+U5PhTArlN/TZW1hGz/P6HMqK62LQM4xDjAmP/G+hJe5UhOeWfUVi4O7h0I3KjxNeov49euDeeDzlLnizxAyzr4kO84fjwk/jxGniQV2PvEel6V9ERABERABERABERCByiXQoIJw6tSpQTRgoPKJhQzGq4uAWHxhjGLoIjZiYZIPMYYwxjTPgrkAIw4DHy8bxq4LF8pwozlfeQgKN6Y9TSGR4WnSWwQT9afrjkVenAehF6fHq4iR3qlTp9AHfoCdvLz8xLmRH6702wVeXF9cfnofXs6X/DCkDLxnPh60Ka4rLoN4F1FsWcZKeo9Lp+Uc5SLA6IO/DZP0CDoY87MPpCsW6CPl+Jzy9jJvEOKFQix2YABTxFFWu70cftuROtu1a+dRNd7Sd8QobY7r9HkJRx9D5jGcmzVrNtucpAHk8TmPqHXvKPPX+5lP0FFuPCbkp13MiVhgw0hBBERABERABERABESg8RJoUEGIwc6bFNMBIxXvjAcMWzeOMUz5FAqxZ8RfUILwoxyMaIxtlqGmAyIk9oykz3NMGbEgpK5iebLKIQ6R48Y9x5RdKCAA/Q2dWeyIw9CnXIx3Zxb/BEWh8uNzCCdfkku5zjFOE49RHM8+bWCc8FDBOyu/50F44HVzrtQb3xwgHd6yUsaHtFlzijp4g2chQQkzxA7thWP8Y+2US6BfBBdX7CM+qRPBzltwaxOy+k5dXm8swBkXnq3NF2gLc4D+kNbnjqeHRT6BnB6TrOuO6zRffq9DWxEQAREQAREQAREQgcomUFG/Q+hGaPyKe/AhhDC20yE27jF4PcTL2zyOLQIGoz8rEJ8vX5wej1Es3OL9OF0p+3hXvA9s3ejPlxfh2b9//ypixNOSP/6JA/qS1ddYyHjerC3lUVc+DxJ1Fet7Vn7K5ZMOCIt8HkDaTFk1Fd5wGDRoUNH8jG0+vrQXQepjRFr3Yqb7UtPjLDb0HSHrAUGYVW8WU+KyxoCynCn9yBd8TLLOMy/SS3uz0ilOBERABERABERABESgsgk0+y0J9dlEvCn+XFO63tj7kT7HMd49F36IEYxZP8b4jQUDHh5fFofx64Y85ZCHj7cDwVDIMCZPHPgtv3g5ZbG87qHxMuJ+0g7OZ7Xf09Ov2OD38uL+xeLS87F1DuSnXrbeb7g4Q8okpOsijjLidsIybg9p8gXK9fzURxuIy1cf8wO21EegPcWEJ2V5+nQ7svrjaZwfx/GYcBzPNfrq841zcXAvKnGUQX1xW9LlpuuM2049fEjDGFEW+bNYUwdtJJAOgebjSnriPHgdXnf6eiCdn2M/3eb0mHA+nYb2+Jj6vKIsr5v9dLuIUxABERABERABERABEWhYAvUuCBu2uzWvHaOY5+hYgudLMDHC8WYqiIAIiIAIiIAIiIAIiIAIiEBjJNCgzxA2JmAIwfSzi6UsMW1MfVRbRUAEREAEREAEREAEREAEmhaBinqGsDGh5zmu9LK5xtR+tVUEREAEREAEREAEREAEREAEtGS0xDnAM1Z8+JFunqGLn9EqsQglEwEREAEREAEREAEREAEREIGKIiBBWFHDocaIgAiIgAiIgAiIgAiIgAiIQP0R0JLR+mOtmkRABERABERABERABERABESgoghIEFbUcKgxIiACIiACIiACIiACIiACIlB/BCQI64+1ahIBERABERABERABERABERCBiiIgQVhRw6HGiIAIiIAIiIAIiIAIiIAIiED9EZAgrD/WqkkEREAEREAEREAEREAEREAEKoqABGFFDYcaIwIiIAIiIAIiIAIiIAIiIAL1R0CCsP5YqyYREAEREAEREAEREAEREAERqCgCEoQVNRxqjAiIgAiIgAiIgAiIgAiIgAjUHwEJwvpjrZpEQAREQAREQAREQAREQAREoKIISBBW1HCoMSIgAiIgAiIgAiIgAiIgAiJQfwQkCOuPtWoSAREQAREQAREQAREQAREQgYoiIEFYUcOhxoiACIiACIiACIiACIiACIhA/RGQIKw/1qpJBERABERABERABERABERABCqKgARhRQ2HGiMCIiACIiACIiACIiACIiAC9UdAgrD+WKsmERABERABERABERABERABEagoAhKEFTUcaowIiIAIiIAIiIAIiIAIiIAI1B+BlvVX1R81/fTT9zbz1xl/RNRir3mzFta27YK1KEFZRUAE6prArbfemquic+fOtvXWW+eOtSMCpRAYPny48fHQp08f69Klix9qKwIiIAIiIAIiUEMC9SoIf/31F7vjni3s08+eq2Fzs7NtutEFttEGZ2afVKwIiECDE4gFYY8ePSQIyzAiY8eOtfHjx4eSYNqQ4YsvvrBPPvkkNGHDDTescVMK9QkxGM+j1VZbTYKwxqSVUQREQAREQAT+IFCvgvCbb98PYnD57tvboous9Ucrarj3w6Qx9vqwG+yZ58+yeeddwnqsvF8NSyqc7eqrr7bRo0fnEnFXulu3brbBBhvM8QbJlClT7MADD7TJkyfbbbfdlre/p512mg0dOtQuvvhiq41BmINcITv0n349/vjjuRbh3cI7kQ4YszBiS2Ce7LrrrmGucIwx6x6O008/fTaW8Tzr27evDRgwgGy233772QorrGBHHXWUNWvWLMTxH3OQD7zbt2+fiy9lhz7xidvn+ejrE088EQ7TffA0Nd3iHaTN6TrgkQ5pAdC/f//Aj7lGu2BdSqCc6uYppdxS0wwcONCuueaawPrYY48tNVvRdIyRC6QXXnihaPp8CZjjlDVkyJBckl69eoX25iKK7Dz//PN2/fXXh1SDBw9OVm20LZIj+3ShPjF3unbtWuW7OLsUxYqACIiACIiACFSHQL0Kwl9/Xya67NJb2Jqr/6WKcVudRnvaMV+8FAQhxw8/erDN02FRW2apzfx02bajRo2yESNG5Mpzox4DHgMPo7rUQFkYh4RjjjkmJxZKzV/f6WivCxwExG677WYuXDDO3MDlHAFDf04RhBjKRx99tMEgDow/Rj4CxYUY/e7Xr1+cLIgX4hE7iEgMWp87bBE1HqjrvvvuC4fwmzZtWhBsRGy77bYhPp6DRHhZtAEhjsekUKAfGNyMlY9pWtgytt4OrwOhcMYZZ5RlXOFw0EEHVRHH9IObDjEP6oad99H7xTGs6AsfxGWxUJM8WXO8WD35zrvQgr1fL/nS1nc8LGHv88Hrhxn84znu5xpqy9xhjnBNKoiACIiACIiACJSPQIO9VCb2dJSjOzyTOGDQzvb1N++Uo7i8ZWDMYkRj3BMwHDGcSg0YYBhbbqSWmq+h0iEy6DOiF4OMgCFO+9l6QJDAhbRzSrjoootyffS+uYCi77fcckvoKsa0i3zEGQz4uFhEKJIer4sHF9B+7KKB42KCmrlH+e4ZZE7hAYvHw8uNtxj+CNm08e9pyO9ikLIZU0Q/5Xv/PG25t4ilOFBnOo7z3JBgDKpzM6UmeWCRnuNx+6qzjwikzYjqSgt8f/l84BqHazzHmS8KIiACIiACIiACczaBevUQ1jXKadN/sLvu3doOOeAV69BhkTqpzgUPBusBBxxg48aNC8ayiyXiMaLcC4MHg3MYWRhfsZcHI5tnfzAYC+XL6oh7MCgf45V2uFCIPUUYeyytc7FAGoy+2BuD4UubWRaLiKFM99i4YUwbXn31VXvwwQdzS7ZIz916ymN5IyKf9PSdMgl4GAj0D9FCgAVM4nppF/XGQiokjv7zJZNxnxEshfqTVW6aHW2mnZTrAW4u2tLGPOcYR/f4wI7+EeJyEFVwJJAGQUBZ5KNs8rho9LpIi3B85538NzZ8nElL26mDslg+iIgrFGgT+V34xWnjNtBWbxvjRp8Zr3huxXlruw8Tv7YoKxbIcdnEM9f5IPS4GUNe+tShQ4fcvPMbGfQhnYfy4rkXz3k4cl36EvF4jjM//Hoiv+dj/rHPWLhwJi08ub45R3uHDRuWE/vUw5ygnHzXbtxv9snDTQraRH+zgpfr84vrA67x3I7z0WaCfw/5OeKphzaTPy4XBpTn32ueJ976NUacfwf4WMVxpfQpLlf7IiACIiACIiAC5ScwRwlC8PBc4V0DtrGD9htirefqUH5iv5eIkYehhPcHo8aNZUSLG5MkJZ7Pb7/9FgxGN8A4x367du3YDc+H5cvnYjMk/P0/8iJKKNsDhhoCDQMMg5g0HNM+D8SRx4ULxxj86TQY0YMGDcr1jfyIibg+7zdbF7rUi7HozzaRnjjK87wY0BiH8RJLFxzeNvimg9fh5XDe89FW8pRSbha7uP+UG4ujNP/4mPo9LcZ3bHizj6FNuz0NYg8BQ4AJZVG3n0cwZvU9ZMj4jzpikZmRJBeFCORGAPyyBGEuYbLjbWDsPKQZeXw5tj6OXh9iKSsgnuLxTx97HsaYPnCNptMUmvNnn312lfLpM/WxpY0uvuN6sq4Vb2OnTp1CUuYA3wEEyuK6pB0eKJs4X17s8b4lzy677BLyEkf6rJD+/iEdc8u/E9J5mD9879A+5oTPP24IUKeHdLn0jw99iq8HT+/XmB+zTY9DqX2Ky9C+CIiACIiACIhA+Qk02JLR8nfljxLHjR9hA+/f1XiraV2G2MvmhpeLOkQPRpjfycfYwhNIvAf2icNgK5TP02dtMXoxIvm4Ee9ijC1GF/F4jviwT5yLMQQUx7QTT6J7mIjjXBwWW2yx0CeED4GtC8s4HcLR24KxTHDBQz0Yoe5J8TKcC4akL8WMy4z3yUM7MfYJtNUFRHXLpa2U4+31eijTg4+hH2MAX3vtteHDHMDQJdCvdPA4Ly9m40ycEXnjZaXpsvIdp+dhKenypfF4Fxy8TMhDLGA8rhxbn08+36jbrwcEdamBcWQ+enkuvNP5C835jz76qEoZPj99zjKO8fVE2fH887qYMyzBzBpP6neW/j3hbWb+Onsviy3z2+cQ/WT+ex5PRxrn5uX63PXvBE/rW7ysPvfx6iE6/SYX4pxPbb6fvJ6sbSl9ysqnOBEQAREQAREQgfISmOM8hI5n9Mf/tUceP9y23/Zmj6rTLaIA4wmDFIPOl6+5YMAAxKh0o47GcMwHg6xQvkINxyj0O/TUgfB074QLDu76I0QIGIoYfKSN28I+BjQGrAst2haHueeeO/TRDUi27tGJ07FPfZTH2w8Rvd4m4tn3unmbphuetIk87glMl+nHtJFy+CCmMIJZ2kY51SkXseEC2MvO2saCK+u8x2WlYx6kg7NhfGivjxM8OVebwDw87LDDqhTRs2dPO/fcc6vEZR0wT1w4ME84dqFN+vR8IA7v8rvvvstuCK1atbL777/fD0vaMn8RQs7D60TMZPHLV6jPW+YHcyJLWMV5s+b8SiutlHeO+zgxz7xdMGHe+vzz8vGw+bURC37O+zHXLoKMwDxEQNIm2p6eS5RPII/3k3pdAHLOyyVv9+7diTLGHgHq11+IjP6j/Xz3IAa57qif9HwYF240UWdNv5+iqmbbLaVPs2VShAiIgAg0UQIjRn5sZ15zp7329kib8cvMJkqhcXe7VcsWttbKy9mFx+xrPZZbpqI6U7GC8Otv3rUJEz+2xRddt8Y/PD/szVtsvvmWTH6j8Kw6h45hhSGGMVtsOV66MTXNly4H48/rfuSRR3KnifcQG5oYlBikGIsYlrSdD8LEhVo+Q9LLy7fFKEfcYZRjXGJoEqiPeA9uNHPsbaNdpQby03Y+cVtrW25cP+3JEkNxGvYxcN1Y93NZfYkZwMaFRm3FIHXSzu+//96rD9vYy1flROoA/ghB91K5OPRkfiPAj9lSdlxf69at49Ml7fu4M0cQNc4DQeKioaSCSkxUbM5nFROPI+3zNnpa/z1APy609RseWXOUfNSVngsu/OI86To8DdccSzzTgXhnHZ9jzuDxpl7mI9enC0NEOXO6Jt9rcR1Z+97eQn3Kyqc4ERABEWhqBBCDWx5ypoRgIx94hPyLw98LYzn4nxdWlCisKEH4y8zp1rJFaxs3/k27897eiVEyzpZdZkvbdcd7ba652icvLWluzZu1yE2HFi3myu3n23nm+bNt5RX3so7zL5svSY3jYwHCXXSMKRdkeFcQRRi4sQDKqqym+dJlxR6RNddcM3c6js9F/r6DgYgxSBtoq3sJ8BjwfGOWAZkuI+sYgxYBgWEZL+OkvFhc0bb4OKusQnG+XBPDNS6ntuXGZVFHfIxQcrHEePtzglmiwIUE88MDZdFeyvX5wjmESk2CiybKhPl1111XpRj3ZlWJzHNAGzDQY8HjfY0ZePa//vWvObFPXPPm1V+FTpu5XrhOmCt+84A475vXV45tsTnvHve4rvg6gDOfmgbmAmLI524p5VAfeZxNVh5PA894vnnadF7mpl+biD7GHW8+N4P8hVnwp1yfp9X5XvN68229vel25UuveBEQARFoqgTwDMorOOeMPmPJmD563TkV06mKEYSTJn9pt925sU2e8pXNmPFjDtBHHw+2y/6+cBCDf1puJ9tph7tyorBLl9Vt5x3utunTfsilj3c+/XyIvfPevclvuk2Mo8uyj8HMXXMCggCDMRZ+LBkj+DKucJDnv9gwrE4+ips6dWquVK8LgxBjiy3GFm11seFtJhMG/gYbbBDys1wNYUh6f3kFBmNsCOcqKnEHUejeBrK4oU3bPNA22kG9zi/LmPX0bN3jRR4X5bSztuXGdWAcOz8EUXwct5N6Ef4IaUQoad1LiMj2sfW+ex2wwch2sU7bswSXp8+3pT73OHkdq666ar7kJcXTDj6w9TfDMj/gkQ7LLlueGy20PZ4r8KnN3Eu3Mz4uNufjtL5P330+0C6WUBIYP569xbPq4t/z5NuSH3EHX+Yw5aavy3Rez+M3bMjj14Gn9TQcX3LJJbn2MkcQcun5RXq/fqifOU7wvoaD5D+fwxyX+v3EqgSfl15Omo+3t1CfPK+2IiACItCUCbBMVGHOIlBpY1oxgpBn/r6fMDo32u3bdbL55l0q/K7gzzNmiZ63E3HXe4urEoNl1pv7mlkzWyXx/uULv9lvQRDmO1+TeDcmPS/GE3fVCex78J8bSBtBfp4td+ddTHp8Kfk8LVvKT+fB+CMgTKgDoy+dxg180mKII05cXGKkEjDYCgWMWt6MiDGcFRChLp44j5FPwDBlHzGIsUr7MDpdHOGhKBRoq3tYvK0IitqWG9fJWNJ+2gdjRDLls+91ushmi/ijTaT3Pnt/EHsu1rwO8rjXhbj0eU+XtcWATs9DRLS3JytPdeJYbhgb87S/2JhUp/ystIgR6nHx4XMlK21t46oz5+M5Hl9PXD+01+dDvrdtZrWVcpj7zCOuS8pxYcY4ZvWdsSUPc4o8zE/qjkNcrs9Xv664WcSbeONAGfSDeUjZ3ifPQ1qEXXW/18hHnzz4d026vaX0ycvQVgREQASaMgF5B+e80a+0Ma3++q46GpNffpmWK3mrza+wE479yg4+4GU7/ugxtnz3HXLnWFZaKQHDDe+A33nHwEHgETB++MTGFMcYvu4B8zSl5CvUZy+HNJTtxjvlYowR4jS029MgZr09iBo+BIxm8meF3XffPURj0GLIukBKp4WLG4bUEQtMPA3OijJcPGHUZhnE6bLjPLTV89S23Lge2sKHEPeVMSU+FnF4V70/9MX7QxzepHgeUB4snDvH9KEmgXIZY+pP11GT8sgTi0G43n777WUru1CbnCf98P1C6Wt6rpQ5nzXHuR58PjC+PvcZR48vpU1cF/5WYC+HfJTjHrh0OXxv+LVMHq7n9HhTLi+nId7nK2k5zlcuLHzueVvYEqiPftXk+4nx8/nt7a1Jn9J5dCwCIiACIiACIlB+As2SO9uzfhyr/GXPVuLYccPshltWt222utbWWuPI3Pmvxr5h99y3XbIE6itbIVkWuvvOg8KPnHuC6T9PtquuXdp+/Ok767pMb9t5+ztLetHMa2/8wx578kg77KDXbZFkeWlNA8ZXWvQgdGKBE5eNocgHIw4jjfwE9t1Y4449d+IxuIknFMsXEv3+n3txEByIO6+POtPBxSB98Dal03jd9Iv2eJvIk24/eYnDq0B6lkx6mjQX4ikjHe/1Uy9p4ELb8jElvXvFMFTxXGBoFupPvnK9TdTp/fT2ZG1pv7fT6yNvVqBs0hI8bVY64mi/e8RIG4cJEybkfpx+xRVXtI4dO+bKjdPR/nxtidPF+/nG1NPE7fe42m597BAKjB9t9r57H7xd8bj4WFE/jNLM0sekS8elj0lDoJ980nN+1tnZ57hzpjw8h7SNNvnYefvJ731i3/sQ94v4fOVwLl/w+eU3FJyht4F83g76Rjs4523PVy5tIT3lkQcxl74WnRflkYa2ENifOHGiffLJJ+HYb85wEOeBc1Z7S+kTZdFG3lrM880EbrTE/Q6R+k8EREAE5kAC868360b8HNi1Jt2lCS8NqJj+V4QgvHfQTvb+yAcClG16X2dr9jyiiiDkxF33bm2jPpr1dsrtt73Feq46y3NTiGS5BGGhOhrqXCwI8Q41heCiAq9FdTwyTYFNpffRx452chOjqczZSh+XxtQ+lmPz8SBB6CS0FQERmNMJSBDOmSNcSYKwIp4hXHihFXOCkDeLNmvWbLaRnzJ11o9/t2rVNjxbOFsCRYiACFQsAV9OSwPxKCmIQHUJ4GGM51Exr2d1y1d6ERABERABEWiqBCpCEG660QVhueiwN2+114ffaGutfmSyxGnWi2MYmA9HPWpjx81ahrfTdnfaol3WtDFfvGzPDj3XttjkEltgge42V6t2TWoMWXrHskmMpKYS3CuoZWKNb8TlEWx8Y1ZpLeY7j4+CCIiACIhAeQgMH3SNLbXIH/b29z9MtmX7HFyewlVKoyJQEYIQYvzeIIJw6tSvk+cMe9q6a//VOs63jH02Zqi99vofv6tGuptvX8e+/W6kLdCxu91065rJsy497dADX2tU4Gvb2KZoGLkgrC075RcBERABERABERCBOZlA96UWtXOO2Mu2Wr+ntUj9RvC06T9bl032taMuusEGXn6qtZ27dUDRcd4OdY5kk7VWsbVXXs7+MeAxmzTlj5+Zq/OKVUFBAhUjCFu1nDvXUH6LcPDTJ+WOfWfuNvPbl1++at99P8r23eNJW3qpTe3D0Y/aoAf3sm++fd8WWnAFT6qtCIiACIiACIiACIiACDRJAojBIa+/Y/uddoXN/PXXTAavvzvK3hn9ma21cvfM80Tu0aeXXXHiwXb4BdfaI8/V3vmy8Zor2zF7b2d3PfqsBGFe6vV/omIE4XLdt0veHnpX+BH5MV++Ym+9c1egwTOD66x5nLVpM48ts/QW9lHye4W/zpxhiy26TnjWcInF1reff56SxA+WIKz/+aMaRUAEREAEREAEREAEKowAnsFCYrD1XK3s7ktPCmLwtbc/tJW6LpnzFMZdadmiRYhnqzDnEqgYQQjiVVbaO5DmJynm6bBo8pzgS7beOifYct22C/G8bKZLpx720itX2EOPHWyrrbJ/8szhTTbvPEvY2mtm/zh6yKj/REAEREAEREAEREAERKCJEGCZaD7PoIvBzdZe1Z5+9U3b+5S/2RordrNrzzi8KJ1eq69ki3ZawF59a6Rtt8k6du8Tz9u4bydUyde6VauwVHWZxbsk6T6wV98eab/+WvxX7vKVPf887Y2lpkt0XsheevN9Q8B6QBv03mB1W37pxezF4e/Z/94ZZfyiHnm223htG/b+R/b2qE9D8s3X7WELzT+v/fvx522e9m1tx03XtdffG2V/WnaJcP6+/75gCN/1eqxgq3Rfyp7739vBg+p1sV1msc62UeLlbJMI6mdfe8s++OSL+HSj3a8oQRhT3GLTS8Ihgxq/dbRZs+bJ84XHh5+guPPePmHZ6NprHhVn1b4IiIAIiIAIiIAIiIAIiECKQJYYnP7zjCCmVtuluHNlv+02tR02W9cmTppqC8zXIeSLBSFC65FrzwkC7cPPvrSzDtvDhn/wkW1+8Bmplsx+mFU27R1804VB4E2e+qOd85e97Nx/3G1X3/WwNW/ezAb87VRD6H0z4YdQ18hPv7Re+59siy68gF116qF2/g3/zgnCw3fb2tZMhC+CcOGO84bzX3830RZeYD57JhF3Q994156++SJr33Zu+/iLcXbekfskAvND2+7o8+3nGb/Yjkm/bz7vWOMZzOYtmtv5R+1jx192s935yDOzd6aRxVSsIHSOsRj0uF7rn24brneqjRz1iHXv9mdrxr+Mn6rw9LXd+o82ezn8YDM/Fj7XXHN5VEVsn3jiCbvoootsv/32s0MPPbQi2lTdRhx22GH27rvv2n/+8x9beOGFq5u9ztLPnDnTDj74YPv888/t73//u62yyiol1zVs2DB78cUX7cADD8z7A+H9+vWzxx9/PJS95pprllx2Y0243XbbhR8zHzJkSL12oaHqrddOVrOyH374wd544w374osvbLHFFrP11lsvWaLfZrZSuDn30UcfhbRcm6uvvrrNM888uXQvvfRSGNNVV13VFl100Vw8O+T973+T5f7Jcyy9evWyX375xUi/wAIL2Nprrx3SMhemTJkS9vlu5TuW79qahEmTJhk/eE8b0+G7774LfWC78sor20orrZRO0mDHjeVvTYMBUsUiIAK1IpBPDFa3ULyP/e952AYmHrXvJk6qkn3V7kvbhElTbI+TLg0etAN32NyuPPkQW3fV5e3lNz+okjbrIF32Q9eclfySQEtbdeej7NtE9P2r3wl2at9d7V8PP2NbrtcziMGLbx5ol9/+n+DZQ4ziuRxZoueOtu524iX22Vdf2y5bbmCLJEJyx2MvDN7BQ3ftbQdsv7mtsMzi9sX4b+2Gs48K3s59T7s88SS2TJbcnmiX/vUAe2Lo6/ZtikNW3yo5ruIFYT54eAqX7759vtNljX/vvfcMgz0OrRJ3OMbGOeecYx06lP5WphkzZtgdd9xh8847r+26665xkdqvYAL33HOPffzxx2EeVEcM0qUHHnjAnn32WVt33XVtjTXWqOBeqmlNjQA/BzJw4MAg1LzvCy64oJ133nmGsPPwzTff2JFHHmlfffWVRyV3ZpvbXnvtZYcfPmuJ0fDhw+3f//637bjjjnbCCSfk0rHzzjvv2IUXXhgEYO/evc2/U/kOdUF444032meffVYlHz+r07dvX+vTp0+V+KwDRObLL79sTz75ZBCbiL20IHz11VftlFNOCYLUy9hjjz3sqKMqY5WJc/G2sa3p35q4jLrYHzNmTBD5yy+/vG2wwQZ1UUWdlPnQQw8Z85m527Zt2zqpQ4WKQKUSOGqvP1u8TBTP4Nhn7wxvHK1um/vf80jmMtChw961F0e8lyy5XNqO3HNbW/H35ZirLrdMSYKQdnjZCNjVE4/emyM/sc3X6RGayE9jtGk9V/BAsrSTcPdjz4W2vDDsPdv6iHMScTbZWicispTw8HOvhvJJO+KDj8MyWzyDeP0efOYVu+m+J0MxPJOJMP3P/72UiODJIW7Q4Bft4uP2D89hPp6IwsYcmjfmxtd329dZZx276aab7JJLLgkGyiuvvBIMn59++qnkpuBpuv3224MHrORMStjgBPCcXH311bb++utXuy0nnniiYXjzu5EKIlApBAYNGmT33ntv8JAhxv71r38F8YXn7Kyzzkp+G3bWHzy+304++WTDe7X//vuHG1p4yZdddlm766677MEHHwxd2mqrrcIWTx8ewTg899xz4XCLLbYIQjI+l95nlcN1110X6mTlx8UXX2xPP/10Otlsx3vuuaeddtppQQxy4y0dJk6caGeccUYQARdccEH4Lu/WrVtggIe0kkI5/tbUdX8QhPwtw9PbmMIjjzwS2l2dv9uNqX9qqwgUInBtIuIuvGlAeGYQMUhAXJUzdF2ii33wyI129yUnBtHGss6ahsU7L2itWrawpRftZH/ZY5vw6fmnruG5PcQizwnO+GWmjf92Yq4KvJCjkqWqNQm8dXWHYy4I3sALjt7X3n/oBut/+uHhucLFk+cXCR+NGZsrGq8hYd4Ojf+30EuTz7muN+2d+eabz/70pz8FCNwR7dixY/jDcsstt1S5w/zJJ5/Y//73P8Ow4g87d9q5m/7hhx8aIpLAkibupiMwllhi1sOs+fKFDBn/TZ8+Pdyh5a46xlnaCPMs1Mud8WnTphk/6l7IS/XUU0+FdvM7hyxh/Pbbb8PSrU022cSLM9IQv9lmmxnLVLmLz/KuoUOHGgaWl0//Bw8ebIsvvniVO8jjx48PHDAoSL/55ptbi9TbqzBGn3nmmVDPCiusYJtuummVZcETJkywF154IXgUqBvOc8/9x0+X0FjaSJtYEgdn6soXsvqEgYthiYELQ5av0ReWuXkohRdLYBmjRRZZJLcM9uuvv7b/+7//M/rhHhIv07fl7CMGL33o0aOHwZMAF8aYZX/bbLONVxu2LO0bMGCALbTQQmFsGQvSu0eHsYML6bbcckvr1OmPH7alAOb366+/HjxBLC/ceOONc32vUlF0gIdnxIgRIV/79u3DmC299NJRCrMPPvjAXnvttdCW7t27mwuMn3/+2e6///7geY9/oxPvV8uWLW2nnXaqUk58UOi6QwQhZmA2depUY/kvS7Lx8JfSXpZYMk9ZRcB3Rr5l0M6ba4k+w5ubR8xrPF1xKMY231yOy6Ds66+/Plwzl112WW4p8zLLLBPGgPmCt42xffjhh8Pyyx122MEOOeSQUAzfN1dddVXg2r9/f/vzn/9sXbt2DW2HJx7BuN3PP/98yEd5xQLjyrXG9+ZGG21ku+++uyHgWEodL1FNl8MNF3hxjR5wwAFVvi9I+/bbb4fvQNrg32eMJeKXPqa9ieTx8WdVAAKCucfY832UXs6K95Tvfa6NpZZaKszN1q1n/baXjy/fHYwv1z59878n1BWHUv/WsMSWOvmOoT18l9I+wptvvhmuP9rKeDIXubGFhzb+rkx/x2244Yazfcelv+/xrDGvCaNHj855hllqXGp5LN/m7wNLlZl3fN/CGPHP3wj44H2MQ6Fr7ssvvwzfScw7rnmW6c8///xhHLj+uCHA36vvv/8+FMnKDb4P/e9VofGL26B9EWgsBHihTPrFMojAK5KllR7S5z2+Ntt9/7xpeHHLhvudnPtJi91796pRkWPGfhs8dh9/Mda2PPSsXBne7k2Tl+IgGFddbml7473Rob+H7NI7EYxj7JMvx4f087T7wzYs9njZmit1t3nbtwuCud3cbez8I/e2g3baMngFP0meKSTwEx28TMb32eJZbOyhQQThpMlf2bjxb9Y5u8mTa3aHoNSGsdSIO6QYsR4effRRu/zyy4Oh3K5dO7v77ruDEXjzzTeHP9rchSdg1N16663hjziCsFA+hGc6IAZZ5vT+++8HwwcxmGUssTz1n//8ZxCkpOGYO+ks/8oKeA0wLjCkMQIwZAgIBu6+EzwNz/lhMGGEYGBwV3/nnXfO/YHljzpx/GH3JUUY1Cwnw2hABGKY4mG45pprwtKoUEHy37HHHhsYef0Yp2eeeWY4TZ9Z9sUfdgwnvBw8c4Rh63/c4U1fMcj4cIyhSXtiY8jry+oTxiXePeqDLcbXFVdcEbwoGJwEz1eIF0YPBiDGH4Lg008/taOPPjqIQW4UcGMgPXbl7iNihr5j7OFxISCWicPQTwtCxoVztIt9DDXGgqWzu+yySzCsPA6vOcsBGWcCc4JlhNwQoH/k46YJRv1aa60V0qT/ow7GlBsXPi/Iw5JsxCQBTogYyvM0Pne4HmgvhmUsCG+44YbwPFw+QVjsuuOZUcpFqI0bN+uPAbwQrIXai+HK3EEUY6DD6sorrzSMYLxt6eC8SUtfELj0884777RTTz0116dS2PqcjK9P9955vcxB6uF5PvoSh2OOOSYIb79RhQgnxFw5pq0sg0YwIwIRhNQDcwSgC0Lyww4hxDVYnUAd1Mv1hcjk+cZ8wb+fEBhZgTYSmCMe3GuPiMsKPv5ct9zE8fmMZxQhTJ8JeMmon3H0NHz3I5q5WRKPL2PLfOA5y3yCMN2WrL81fD/zzDXfs349MF9oF6KY70zaed9994UlkpTJ3wCuGcaI70Fu8pT6HRfPJ8rihhBh5MiRYfwRmsyp6pRH25nnBNrLvIS5z30eq+BvAaHYdwR5uVYR44wnfaUceMCAvvI3lzYS+LvB9yJ/M4qNX8ig/0SgkRH474vD7OCdt7Kb7/9v5ttGEVWcJ105w4fJS10IO2+xnnVeaH47cf9ZN2Tbzt262tVMT2zFux99znjZzGXHH2iPDflf8iziCrb9puvYpn1PDy+HwXPY79j9k5fMPGQbrbGy8dzfwedcE54BHP352CRt8ibRd0cHL+OGPVe0n6bN+g7Iasz6yRJUXlpzznV321MvD0/s0lky6cckz7BEcI76/KvAjOcOWyU3nhC/wxMxOPLT7L87WXVUalzzhmjY0Jf62fU396jzz5AX+9Vp9zCkEGu8vADvG3+wMI65S4pR9thjj4XnaTAkeG6BZ2swQAncqeVOPsZusXxZneCONqIBowtRyjEGF4E/hASMa8Qgd7fx9mBUYZDxh5C7xYUCz+wgZBAP3NWmL24Yej4MHZbPujjy+HxbBNzpp59uCGUMEsqkHu7c0/444H3kWSAMKu58s49QJWD0cLeXtsHz3HPPDQa0i23GgjQ8C8V5ysYjgIes2NKzuE/0H2MHY4y2wpA7zwhNDP44lMLL0zNH8P5tu+22YV5gpFAuwceu3H3EcGe+4k2AD4E76AQEfb6A4QpfuCEUCMxtXlrE/MUIps08I+kBwYMYJD135DnGCGYp4I8//ujJqmxhwnzlGoE18wPDmmW63DzAw0oc44PRx7gyR5g7fk1VKbCEg+pcdxjf3ETBuMRrWqy9eGQQg4hk2seHtjMX8WTkCxioiGDmHvxg+49//CNnxFaHbTyX0/UxrwmkSQe8f9wgcO+Mp02/KIZ8CGWCfzfgseUOrHsEOYdgJKRFaYgs4T8XpgjC2gT3zuI588AcICAWigWuScQUApUVDMwBAqLm7LPPDjdP+E5iSSJCBlHCDaQ4UA+M+F7jmiw1pP/WkI/vUupmy3w5/vjjw008lv/GAYHE/ON7htUUfPfz94hQne+4eD7xncBNIAJzhe8CvHHVKY983Cjza515stxyy4VVC34zD0+5fycWu+ZCY5L/uNnK3z1eYoTnmu8PvJnMa9rpNyX4PkdsVmf8vA5tRaAxEDjv+nus1xor2fghd9uElwbM9iGe86QrZ7hv8As2KPkcuksf+/dlJ9sHv4ulFZKfhahJOP3qO+yOh5+2/bbfzB5MXjCzz7ab2N//9WAQdu9/PMYOScTfUsmSUn5TcbfeG9oFN95r9z81y77p988BwV67K1m+utc2G+eeFczXjuvufdT+OehJO+nAneyluy63nit0tTP73xl+YoOlqXuedJnhKbzkuAPszOTtqfykxe4nXJLcfJpld+crtzHEt2yoRrZoMVfi1WmfQPwlMXYmZTajVctZbt5fZk5P/ij8mqzhbZ0YG7Nr2Bm//GTNkn8tW7YJ5fzyyzT7LflXH4GlMwgdBArGkQsbjG6WoPgfn3x3rWkjd3erm8+f29htt93CHzrKQWBg7LhL3A3+vffeO7dUjT/CPP+DwcofyHxh++23D8IWjxJePe6wIibcSCQfYsCNRO7qFgu0DS8bAsuXLbKPaMB4xrvogTbDlru3LHnibjv1Y9D4C374Q4/HBIOH4IwRV4hyjDbysCSTZWEYTFnewZD59//iPlEuhh13mRlj7iwTxw0ARD5LQD2Uwou0GDfcCSccccQRwcuCIYU3kuWbPnbl7iMvpkCcILacCVvETaGX5HDeDVfEGoIIr6yPFV4BPOKMHwHjCk8MNzyYmwS8YghK5hwCLmuJLPOZNh500EFhjJgfeIMQmtz5Z6kexjs3UPxlJyxfxINUnZc6hQb9/l91rjvEJ551D8Xa621iTiJkeJMlNywQxn7Oy4q3iBauOQL8mBMsyWPOMRbVYRvP5bgO9jGaCaW8KRlxT8i6dvylHHz/ERANjA+rJrgBw/cfhj7zGiFUk8ANJAKinMBNAvfycMzbf7NWUXAuDn5TBHFAGXyX8L1CKJaf5ap+w42VGXxncf1wPfMyHb7vWYrqY/eXv/wlCEMeEeAcc43A+GZ5iMPJIv/Ff2v4fuMFNHwfu9BG/HBz0K9FL47zXCd89tlnn/C9zfXEdy/fb6V+xxWaT15XdcpDWDP/uDbwlHKd7LvvvuHGFQKYeL4zuBnE926xa87bgNfb/+4yJgh0/obh2c8KpYwfvOOAt5Tr0gP1sPxUQQQqiQCeOn5fsLbhrkefNT4e8L7xyRf4eYZDzu1vc7dpHewnlqked8msG2jkwfvGJytklT31p2kh/4l/uyV5Vq9t7oUunv+Bp182PgvON499l7xwxm8icd7P8awhXr044D2cf73d46jwPOLJV95mp151u83Trq1NnDy1ynmeH2TpKj9LMSNxDPhzmFUSNdKDBhGEa/Q83Lbt/Y8csh8mjbFhI262oS9dHAQiJ+bpsJgdf/QskfHE4GPt1df728EHvmKdF/7jzXdewEV/a2+LdFnDDtznuRB13wN72LvvD/TTdbrFSMHA8zvtGLwYG37H3CuPJ6jHxdvq5sPwJviyrLgs38eDSGBpWzr48rd0fNYxdSAIvU5PgwFfneDtwUPJJw6F2uOvhUeEEWDO8jsMO19uRLwzRhBy1xyPFEYMhhTPEGKsFFuiFfcJAYJ3BrGOpywOcb1xPPv5eHEOzyBCFsGEgZYv1EUfMVoQhCwVpZ8YqghZPHGlBPJg2MfpMXThTZ8IPsZp44hnVzHuEDRpQQhbjD6YYtSmA3PDvWqxeIUhIp/gL0BJ5y12XOp15x5cyiulvSyR5vk0vEoIf4QAgpw3G8ZlFWsfcwnDk2vPBVGpbOO5nK7Hv69K4bbkkksG8cFNEfcIennMZwJpPDDPEIR4CZkfiGLa7HV6ulK3vBGS4M8AM39jTzNMiwk68nO9nZt4tniDKt9nfFg5gNhOPw9I+nyBZdT0lxsV9N/nvN+oIB/sEZwuaHyZanXGPl1//LfGn0Xn74wv1Y7T+893xHHs+3epf5dX5zuu0HzyeqpTnudh689aunCO43yJbbHviPh7yct2IeffTx4fb0sZPzyXceB7gxUNHuCavi79nLYi0FQJFFqaWRMmvyQ2mb/dMyt/oZ99SIvBrPxxHB6/tBiMz0/5sapNGJ9rrPsNIgjdk/fmOyz9+8RWWWlv23Sj863t3AvYE08dF1guu/QWYTt9+g/WdZktgyAc+eHDybOHI6z7sltbm7nnt7femXWHAS/jsktvnvxo5NTE2God9utDELKUCqMaYxdDmT/CJ510Urh7zfNSGAgYG+lXsKcnS03ycQeVgEHH0sis4MYHXpe0IRcbcFl54zgXYlkegjhdsX03KFiimH6WrJDXxI1O/+OOQcddXTwDeB3oPx6cOGAkITzwxuFl4nkXPBW87RNDrZTAsiWWFWE0cucaZn/961/trbfeKpi9EC/3djDmCFj3CKYLrIs+Mk9Z/ovn2OdGmlu6HdU9do9RegmeC35ftheX621hfOGbZsJzWr5c0L1Vcf6a7tfkuqOuUtpLH1hWiyeVucccZKktcxCvlHMq1nY33Ln2vN7qsM1Xvt8YwchOB7xftBdhx7WKtxZvFB6/9PeIe0ligxmPPqsQXBBSvnux0nWVcuzPaLuYgWNNA554bvAg5rgWWIZOX+P2FyubGxcuUhlHH0v3unr+QnPe05S6Tf+t8e9SRDI3utIhn+c3/d1U0++4dH1+XO7yvFyf+4W+I/hZoJqEmowfy7oVREAERGBOItAggtABfjDyQXt/5AP28qt/t6OPGGlrrXGkPTvkHJuWiMBllt7MJiRi8cuvXm6CrYoAAEAASURBVLXlkh+fb9G8VThH3r77DbVOC69iDz5yoBeVpN8iWT74enJntq0tu8wsMZk7WQc7GGUYPQQ3qnk2AyMTIeJvsfM72W7k+pY7qR5KyedpfcsSGow07kD7UiYXTp4GY4E7mSyvil8IgUj1u+2eNr3lWSYP/syNP8vj8fEWbw3Bl22ynzaQ/AUMLKWN24NRmV6+yt1wFw8s9yHwogSMMQQZBjIeGO4Ku4HsbLlrjtGN6MTjxFjgkUQMIhBLFYTeb5YKsgSJup2L1xUalvzn8Rx7vixe3AnHG8FSVwwY73c8dnXVR1hh4CNyMfpZ8urCwPtRytY9sVlp8YRQD4Kd5ywx5EjvRn1WfRi3iG28hxjpGO0EbrZgeMPLPSyU40u/mBc8T8hcYjkrS1kxwr1exgSW+UJNrjvKKqW9PPOK8GbZJ23jg6eeODwSWW+0pGz6zHcDnhLa7kKYuYQxXF22lJkV8NbBlbnK94iPC3XyAiaEqAsNriPe4Iq3k32/McPSRL5faJtfq9TFzSqW+yIIeZMjvPz7MKstheJ4xoylglz7xb6zCpUTn6M9lMX4M3/wHPqcitPF+/49Thz5mFss4YWFt4slpM4M4YVXG8YsCS/koYrrydrP+lvj1xlL9fFG+0up+F7h5losCAt9N/l3VSnfcem2MRcJ8d+y2pRHWfm+W0q55koVhOl2lzJ+tE1BBERABOZkAg0qCB0sAhDv3+qrHZIYFisnD+O/aMsstbmN/uS/NuaLl2zlFfe0xRdbzz79/PmQJf1Ho02b+cKS0ZdfvSLxLjS39dc5yTrO39W+n/DHGn+vqzZbDCeWKiJWECU8N8PbFHmOisDzdPzhwlDloXYChhTBn7FBECAC+OPFWxQ3Tp6JKiVfKCT6jzc98nwRz3RhoGAE+J1z58PzIhimiCFftoXRwnIjXjDgAi0qNrfLGz0RU6RnaQxGU6GXj2CgYPzQd94YimDz5yK9PXjtuBMPR7hhJPLiBdLxAg365MHrR9xhEGJk4g3kjzkGKOKBJaGwhAMBAYpBiziljzwnQxzGqr9MxgWY11Noi0hBcMOYtlImrAmMpz8/ybG3txReGI0w4lkkhAJGnD9XCKu67CMMEYQYqIXGkz7VJOCtpU/Me54DRazBnvnHi3fSHiavA28ay3tZ0odninS8FAIPOG8Xxet02223hbK4wcGzUzwbhGBE4MMMEcJc4O49Xi3qRRz6/PO6fFuT687zFmsvHPA8MU/52QSMZrxRfD9k3SjwclmWySoDhBcvAmH+coPJb7jUhK2Xnd5y/fCsG15ZxgbxjmBFDFKnv7GX5daMJTdZ8MrDmfnPCzq4Lv2ttXH5eAQRhNzo4DvOVzTEafLtI0gRNHxHwowbF1wv7iXKl6/UeL6befkJ1x2Cjt8mdM99vjIYS56V5YaFf8/6c7T0j+9Svqe4pnlzKc+YEQ444ICwre5/xf7WsESW70teFNa3b9/wYheuaV56w9JFxtYDL5lBVDK3uGYI/tbd6nzHeXm+5RrjuuPvA3ODZ4VrU56Xm29b7JrLly8dz/cFfOHCd2BdjF+6Th2LgAiIQKUTmHWLrwJaOf3nyaEVLCdFFLZrt3AQhp98+mww6JZNlo3mC0svuYk1b9bCSPvxp8+EZCwhLXfgbix/6BEFGEksC0V0ecAIxKBF9LB0hj/Wfsc4vnvJ3VjuGmPg4i0oNZ/XwxaPFW+2Q3jxRx5D2OvydAgh7oDTHpat8WwjBiovNSgkBsnPclf+YPLHHuP8b3/7W+ZLJbwuthiLeDboNx+MzDhgPPDWPTyqLIFCaGFoYVhh6HqgDAwWPBIYqNyJj38rDca8vIE30PGGOp4rQ4ziXcH7iPFJ2zG82TJOGJPHHXdctTwVGCAYOSyrwyDlWRaMYUI8nhxXhxeGHCKB9vKiEZavpZfU1VUfEVJ4Wwju2Q4HZfwPo5jnuljeifGNeGB8+fmEfIHxPP/884NhzjXGuDIPeJMhN1EQUnjkMbaZE5TLmDIv/UVHcMXzhRDhPAZroWfLanLdefuLtRcxxbxDvF566aXBO40XjrfyMp/zBdqLSOG6Zd5h3CNYPNSEredNb/kOoT0sxUR8cuOIm128bISxiL3g3MDhJT4INQQ6jPHkwh8RkA7+Ahfi03M7nTZ9zI0AxCYcWO6OZ78Qs3T+Ysd4HZlPzH++g0vxXnJ94w3lJh4eNzyKcCLwvcaNQjx1pOFmGx47nm/lJV41CcX+1lAmYh4+3DRARDN+zDF+9iEOiHtELN5axo/vf19+W53vuLhM9rlJyHc3q2L4ORjaUZvy0uWnj4tdc+n0+Y75u8SqGuYZc6Euxi9f3YoXAREQgUol0Cy5e/5bfTVu7LhhdsMtq9s6ax1nvTe/0gbcv3NYMkr9++05OCz1vPof3Wz57tvblpv9LWeQ0MSx496wG29dMzT1oH2HWOdOq1q/y2e9lGOb3tfZmj2PCOm9Ox8kS1HvTconHHbQ64kHcfWwX1//YQRjFPDHJivgyeLuOQZgbHgVy5cui/5ieHPnOi4nnQ7xwYdldYUCv2vFXXmMckQrf+Qpu9SAJ4T2YGzn6ztlkY7+ky5fIA088tWPYYZowHDMFzDIuXNeHQ9Fuiy8TNSFAZQOteFFuyi30JiUu4/0hWWMeEQQ3HUZfG4WGuOs+vFmYLhysyMrMKbM5azxoE5EDUwx+ksN1b3u4nKLtZdriL4Uag9zAWGCN4ybKSxRZP7ne7a2pmzjdsf71F/qtU465g/XXmMMcC217dwQ4xlwhB0ebL6z6DvzMyuUck1n5attHHOe7+u4X9xU4XcIecMyXnfS8F2a9b1c6DuuWNt4yRL547lam/KK1cf5YtdcKWXwd4rviZhZQ41fKe1VmqZNIP02zKZNY87pPT8HUimhZSU0ZMUVdkueAdzcxn/9dljmyf7MX2fYM8+dGZq32qoHWpfOPcNLZ378adYr0ON2s7x06o9f20uvXBGi11vnBFt6qU2D1/DX3/54Vi/OU9f7hYx86uaPcpbQKZYv3W5EYCkGN6KpkHBKl8sxBmxWG7PSehx/XOPniTw+vSVdsXaTplD9xZZ5USfeJT61CXiissRHuszq8iJ9sfEuZx9ZJoU3meeb0l6EdF/KcVzq3EzXVYx1oTGlzpp4k4qNQ7qN8XGx9vrzXXGeYvv+oot86WrKNl951Zm7NelPvnobIj4WANWtH9FVKJRyTRfKX9Nzxb5Li10XpX7HZbUv68ZNbcrLqiMdV+yaS6fPOs7629JQ45fVPsWJgAiIQH0SaFBBuEmvc22TXufZwgutlCytmmQPPXZw+K3BJRffMHk5xHB78ZVZv5/Ci2JIi1B8572qanq+eZe0BTp2S+LvzaVfeOHkFdAr75csI1w9eSnNa/XJU3WJQMUS4IfVuQPOskt+bkJBBERABERABESg8gm0atki/EZe5bdULSyVAGNaSaFBBOHEiZ/a52NeSJ4BapMs/ZpgH45+zF4fdoNN/OGzRNx1t08+e8ZGjZ71ohBg8cKZRZPfGeTlMYQxX75kk6eODfvzzbtUkv9Reyf63cF33r3X2rbpaB3adwlp9F/pBFgexXK1YnfCSy9xzk7ZmHixdAzvLS9VwGOgUDkE8KjwrFy+pYiV09Km1RKeyWNcCj2LWqlEuOnDc56FXmJUqW1Xu0RABKoSWGvl5ezF4e9VjdRRoybAmFZSqOdnCIcnzxD2rPf+H9b3DVskWXKqIAIiIAIiIAIiIAIiIAKNicCIkR/bloecKS9hYxq0Am3FOzj4nxdaj+WWKZCqfk9lv/GkjtrQsWNXa9+uUx2Vnl0s9fETFAoiIAIiIAIiIAIiIAIi0NgIIBwQEOuv9iertKWGjY1lQ7aXsWMMK00MwqRePYRUOHXq1/bZmKHJG/RmcFinoUWL5De/FtsgeSvcwloiV6ekVbgIiIAIiIAIiIAIiIAIiEBjJFDvgrAxQlKbRUAEREAEREAEREAEREAERGBOJNAgL5VpbCB5yQo/vkvglffleOV1Y2Og9oqACIiACIiACIiACIiACMx5BCQISxjTBx54wK6//vqQcu2117Yrrpj1e4clZFUSERABERABERABERABERABEahYAhKE1RiaLbfc0rbeeutq5FBSERABERABERABERABERABEahcAvX6ltHKxVBay/hNqjXWWKO0xEolAiIgAiIgAiIgAiIgAiIgAhVOQIKwwgdIzRMBERABERABERABERABERCBuiIgQVhXZFWuCIiACIiACIiACIiACIiACFQ4AQnCCh8gNU8EREAEREAEREAEREAEREAE6oqABGFdkVW5IiACIiACIiACIiACIiACIlDhBCQIK3yA1DwREAEREAEREAEREAEREAERqCsCEoR1RVblioAIiIAIiIAIiIAIiIAIiECFE5AgrPABUvNEQAREQAREQAREQAREQAREoK4ISBDWFVmVKwIiIAIiIAIiIAIiIAIiIAIVTkCCsIYDdOGFF9puu+1mP/zwQyjhwQcftO22287eeOONcDxt2jTbZ5997JRTTqlhDcomAiIgAiIgAiIgAiIgAiIgAnVLoGXdFj/nlj5hwgSbNGmSzZgxI3RyypQpNnnyZPvxxx/D8cyZM8P5tm3bzrkQ1DMREAEREAEREAEREAEREIFGTUCCsIbDd8UVVxiir0WLFqEEvIF77LGHtWw5C2m7du3sgQcesObN5YStIWJlEwEREAEREAEREAEREAERqGMCUivVAHzdddfZGWeckcvhYtAjXAz6MeebNWvmh9qKgAiIgAiIgAiIgAiIgAiIQEURkIewhOFYccUVw/OAJF188cVLyKEkIiACIiACIiACIiACIiACIlD5BJr9loTKb6ZaKAIiIAIiIAIiIAIiIAIiIAIiUG4CWjJabqIqTwREQAREQAREQAREQAREQAQaCQEJwkYyUGqmCIiACIiACIiACIiACIiACJSbgARhuYmqPBEQAREQAREQAREQAREQARFoJAQkCBvJQKmZIiACIiACIiACIiACIiACIlBuAhKE5Saq8kRABERABERABERABERABESgkRCQIGwkA6VmioAIiIAIiIAIiIAIiIAIiEC5CUgQlpuoyhMBERABERABERABERABERCBRkJAgrCRDJSaKQIiIAIiIAIiIAIiIAIiIALlJiBBWG6iKk8EREAEREAEREAEREAEREAEGgkBCcJGMlBqpgiIgAiIgAiIgAiIgAiIgAiUm4AEYbmJqjwREAEREAEREAEREAEREAERaCQEJAgbyUCpmSIgAiIgAiIgAiIgAiIgAiJQbgIShOUmqvJEQAREQAREQAREQAREQAREoJEQkCBsJAOlZoqACIiACIiACIiACIiACIhAuQlIEJabqMoTAREQAREQAREQAREQAREQgUZCQIKwkQyUmikCIiACIiACIiACIiACIiAC5SYgQVhuoipPBERABERABERABERABERABBoJAQnCRjJQaqYIiIAIiIAIiIAIiIAIiIAIlJuABGG5iao8ERABERABERABERABERABEWgkBFo2RDun/zrDZv72a1mqbt6subVp3qosZakQERABERABERABERABERABEWhKBOpVEP7y20zb+s1L7Knv3y4b42bWzG5Y/mA7dJHNylamCmoYAsOHD7dmzZpZp06drEuXLg3TCNUqAiIgAiIgAiIgAiIgAk2IQLPfklBf/X1t0mhb+/Uz7c8L9rSV2y1R62o//ulru/frl6xF4iV8eJWTbOsFVqt1mVkFXH311TZ69OjcKcRKt27dbIMNNqgiXKZMmWIHHnigTZ482W677bYq53KZq7mDSDrttNNCWZRZCYH2DB061C6++GLbcMMNy9YkeBIOOuig8KluwaNGjbJrrrmmSrbVVlstjFU521mlgjIe0P777rvPxo4dG0plnjGfGoM4Puqoo4KYj3FwjdD2XXfdNY6u9X4p10RdXIu1brgKEAEREAEREAEREIEKJFCvHsKffv05INhloXVs3861FxKDv38rCEKWn+7+ztX2fM9zrGeHpcuOGUN9xIgRuXIxSAkIxWOPPTZn8JLOjXkE02677ZbLU9Md6sK4pWw+GNkNHegb4fHHHy+rIKxtv+DkY+Nl+THc+vXrVy1x5TcCunbtGsbZy6yLLSxpXxxoO/Gnn366bb311vGpituPrw9vnLMfOHBgEOrlEraUm74mXJD26dMnsKqLa9H7pa0IiIAIiIAIiIAIzEkE6lUQxuBYGljbEJcxZeY02/bNS+2VNS60JdosWNui8+bHe4XowygdN25cEIXt2rULRijeKM7jISyXAY+opD4ETSWIQcDgGRwyZEhZBG9e0LU80aNHD+vZs6cNGzYsiHkEAsKqf//+1r59+5JKJw9Cp66d6NTjYrBz5865uYMYZI7h9WRulUtQldT5GiaK28+8feKJJ8L8hX25PNxZ14QLUjgR6uJarCESZRMBERABERABERCBiibQYIKwLqiM/Xmi9UmeUXxx9fNsvpbt6qKK3FJGPBQHHHBAzmBHAGLYu1fERRyNwEOCVw3jHoMZgzZewkhajH7OExB+xxxzTBAuCC/i+cQeR8QCxraX2atXryqeSl86ST1eN54uynVhQR+8bd5e+oGXheAeMtpD3/ggqAYMGBCWB3LsIpV+UxZLa+kj8YjjQuIr7oMb8qHi6D/ahZCgfMqK2UTJZttFDPrSU/dQ0V7qdI7eZrYwoWyWaMIFfr5MmO3RRx8d2JHG8+Xrq3MlnTOKuaYbS/s8wNfHBybUS3nucfayOc4aM8pxrl435dBnHwsvg/b5/IFVPAbOnTJIz9yhjDiNtzneMvaU5YE6WQbr5XBcjB95C/UhviYoj+vAA/uUzzxnS6Avt956a64fePUJnCeeQHrG1ut1LvF1RbqaciGvggiIgAiIgAiIgAhUIoE5ShAC+L2pX9iOb11h/+1xus3VvO66hyGK4YtnB4PZjU/fEke46KKLqhisGJSkwQDFwMZQdqM/ZEj+I440CCEMUy/Tz+crk3x4YrLaQ17q5hyig8AyOxc9HFMPHzxiLnDxvMT1kz/tjcGIdg8X5XgfyZfPI4ch7sa452EbB8pxgebx9BFBMGjQoJzA8XP5tnBGdMHSPZsIKp6F9EC5/jnkkENm6zN9oe+l9BUhHYsU8vKhP7FY8rppCwGvpotBjhFfxBGom1BszNLt87rZMhaUw3yjrx5oF3G+NJU07KfT0E7KKCYKvVy2HTp0yB1SD2UWmyvF+hBfE7SFvnmgDj70wePZR6giTIlzQUg9HHMtIwZLua7KxcXbq60IiIAIiIAIiIAINDSBOfJ3CJ+b+J4d9P4Ndc42Nt4xQtMBY9OFAV43jGk38N2Dh3jAYMUoZSkmBieB8mLPkZeNQZ0u0z16GLguLjw9HkLq9TS0ibJJ52IQcUoajGYChnM6UA5ihnamg/cFLxLlUB6Btt5yyy3p5KG/3jfy0O8soUS5MRvSEYjz/LMVnifC+zZ+/PiQwtvlbfb6afPUqVNDPzhH8DSIhmJ9pW0+PpSJqHdvcL42k4cQz6cQkfx37bXXhg9llTJmXgd1Urf3i3Gnb8wRtgQfd+8nfWNueFrSwJxynJ+Xz7lCgT7R3ng+lsKPMr2OfH2I6/XryuPSxx7PDQ4P3ibfUg9MfNy8DL9m/LoqBxdvg7YiIAIiIAIiIAIiUCkE6s6F1sA9vHv8C7Zk8izhRcvuUS8twWuRNugxID2cccYZYbdv377BG8MB593bhhfLhQMGKPE8/8bSxzi4EUscng4EmntJaAN5WObmIV7m5wYv6VzkIADw4tAW2s85FwxeBiLWxZjH+ZZ8LmjoG23h4wa298/Ts+VcnId+84k9hqTzvlKee5oQFeSnny52SFtqoL8E9xJx7MLYyxgzZoxtscUWOfEbM47bXayvzpS+0e5iIT1/0umrM2b0CfbU65zoBx5SAmUxNwiMLW8CpW9pFowB7Sct510YhowZ/1Gnvy02Po34rO5cydeHuFyYxdzYZ1yoKw5woO3Mbxiw72PJ9eJzjTz5rqv4Wqwul7gt2hcBERCBuiAwYuTHduY1d9prb4+0Gb/MrIsqVGYFEGjVsoWttfJyduEx+1qP5ZbJ2yLNh7xoGuxEqWPXEA2cYwUhMPt99mAiCheyQxet+98ozDL4XVi5V5A2Yay+8MIL7FYRXsR7wCvkIS2SEEIEDPrYW+fGLnXGgtDLSW8xnPHEZHkD02kLHceGd9wHN9KdQVxGHBfnyZcG4zs22Ennnr44Tyn7cCPADm+sC8RS8pbSV8pF/OBtI73noZ/u/c1XV8wlK00pY4aYYSks/cL7TCAfdbN1gR5z97EiLW1AQCICYc7NCT4ERGEpcysk/v0/F5546OK5nFW/979YH+Lyq7NPn5jvMPA+c90Qz3OxhELXFe0qF5fqtFtpRUAERKAYAYz/LQ85U0KwGKg54Dxi/8Xh74XxHvzPCzNFoeZDZQ50KWPXUC1v1EtGWzQr3vwjP7zVxiUvm6mL4MY+ZbvQiOvB2CTkEy9ulJKmVGHiwhNPR20CRr6LQZbG4SXyJXLVKdfbQ55S+xD3mzeyZoU4DRwR1fGHH68vNcSeL2+viybK9qWTxcrzvKQr1FeEky/T9TnAXKGerOBzJ2tM8bbx4fm2UsYMocUSTzx+Xi5t5RlBth6XVVfcNuYDIhIB5DceuIHgIjNOG+8zRtzw8M/tt9+ee2tqqfyK9SGurzr7vmwUDvGyVMrwttUVl+q0U2lFQAREoLoE8AzKK1hdao07PePNuGcFzYcsKpUTV2jsGqqVDeohfOTbN2zM9O9srmazN+Pmr56xr36ekMnlsEU2t05zzWszfpsZfneQn5wgfDn9ezt7qZ1zeZ5PniV8/LsR9sOMH63zXPPl4suxg/fEjUqMYARM2ph0UYMBivcDo5N8/jITDHeMbQQL8W6w8vZSlsthjLuh6m32MsmDyMB4pmz3/KTTe770Nm6rL2f15YTptIWOXfCQhj5QP23z5akuQOIy0nl8OWKcBi7Ohj4jsAiwhFs+cRWXwT5tQUyxJThj7z/H1E+5xUK63Vl9xQvmnrAnn3wy9MHjqIN2uMDy+vC6Md6MI6LP2+jzi3SkcQ8ax1ljxnxA+BEQdHi04jjqgCVb4r0tcT30iRfXMJ/YhzXB4+I2hBPV+K8UfnF78/WhGlVWSUp/aANjn54PpVxXzqDcXKo0UgciIAIiUAMCLBNVaHoE8o17vvimR6hye1xpYzS7EqtHdj/O/Dn8QH2HFnPPVusNX/6fjZn23WzxRGyzQPL2xQ5LhXNHLLpF7nfibh77rB3cZZMQ779RiCAsZ0g/H4Vxj+GdFTDsEQMYnxjqGJJuUGOYcowYIQ1iijdqEjDYCQhCFy4hIvmPMjHgiUdYxmXSFspL5/G88TYWJV6vty1OV2yf+n0ZHf3AoKd+F1g8V5gO5EFEIzpYWknfs+pm6aIvvcTjBTPSwZM3obooSpfPsYuw+BweUF+qSP8pB5a0Oat+z8t4MH6I0GJ9RQBTNwGu1OnimDpj7l4+Y0Y7aA9v4HTPrbeJMmm3M/Wy2Xoa9knjggcRzFyJz3MOpvCmLtpHHP0nUA/9w2vL2JDX563PSRdOIUM1/ytlrpTSh7hP6SbAmv74c5Pp87BmThHoO20ilHJdUW5dcAkN0H8iIAIiUAsC8g7WAl4jzppv3PPFN+KuznFNr7QxKr7mshEMAeIvfJK2+n59NBvjGQ+KG5XpOjH+8XK4+MCgxBDHECWegIHqSzUxdN3YRQBhpKaDl0kZlOVlEo9AKtVgp15EGcHrpQwP3g4/LrSlXi+L9rhw8WfRsvIioukDIe5DnJY2umFPmZ4O4eLxcfp8+9SDmIsFJPvpcfH+e9933333UGTMuVhf4e/PCtJmxCFbynYvZ7qdfo5+EXw82Iert7WUMYvnm4tdyqFNzFM+7FOnM+U8dTsf5p3PSZi7WI3TkKcmoRg/yizWh6x6uV4IcZ+y0nHNeoj34UG9ha6ruuTibdJWBERABERABERABOqbQLPE0/JbfVXKEs6Nh51vd6zwF9uvSy8bMP5l+2bGJGvTvNVsTWA56ZrzLDtbPMtCF241ry3eZoHZzn3441i7rOveufjLPnvYTvnoHvtg7SttuXaL5OKru4OBjiiIA4ZjWnyRxsUEhjdGJsHjMa6Jjw1RL9NFAGk572Vj4LrHz71bWWVyLl0f6bwd3oY4jn3axIf8pI3bT93ko1zOeSA9Ic2AePKTnvK8D54vvaVs8lCP9424dLmcx0NF2aTztFnlefvjc/nSU673hTTUne4v5eFRo00s23TGxfrqZTN2lO3jELcra5/6KNuZx9w9Pef5eLneZ6/DuRJPHEIuPRalMPW2UC/l5OPIedpD8HaHgwL/kZ7y882VQn2g7VnXhHuava1pLt4cb6vz8ni21Ov99nJ8zD2dn+fY0/g5bUVABESgIQjMv96sG5gNUbfqbFgCE16a9VK0uBWaDzGNyt3PGruGam2DC8KtF+xhWUtGrxrzuB27WJ/AxZd/cvD65I+tpTXPLRmNwfHc4cGLbJqLKpcgzBWoHREQAREQAREQARGoMAISABU2IPXYnCxRoflQjwNQi6qyxq4WxdUqa4M+Q1is5bEQjNPmi4/TaF8EREAEREAEREAEREAEREAERKAwgQYXhP8aO9RaN5+9Gdd/+ZRd8Ol/Zmv9L8mbRZMnBq1Fxk9OrNJ+iSoewtkyK0IEREAEREAEREAEREAERKAggUN26W2XHT/rZYcnX3mb/XPQkwXT62TjJjC7Eqvn/uzXZcPMJaO8ZZRnAqsTps2cEd4+KQ9idagprQiIgAiIgAiIQFMjwHK1xr60cNFOC9iX47PfSF+u8Vx28S6265Yb2KPPv2bvjP7MWjRvbgt1nNfGfTuhXFVUZDkd5/3jRYPxfkU2Vo2qNYEGF4S17oEKEAEREAEREAEREAERqFMC/rxTPhF53D7b20kH/vFb0D9N/9k+/mKs3Xjfk3b/Uy+WvW2brdPDBl15mv3lwn/Yvx9/vuzle4HLLNbZTum7i3361fggCM88fA+jr6vufJR9PvYbT6ZtQuDzp24Pgvk3+80++XK8vTDsXbvr0Wft3dGfi0+FE2hwQXjH2CGZbxldss2CtnenDWbDN2b6t2G56CJzdZzt3OfTdWHOBkURIiACIiACIiACIlAigWLCL18xLVu2sLZztw5LCxEDHeftYDttvp7dfN4x1i6J/9fDz+TLWqP4N94dZef94x579rW3apS/ppkGPDHEvpswqc49kzVtX0PmY/w/Tcb+lv8Mts4Lzm87bLqu7dFnI9v2yHMlChtyYEqou8EF4f7Jz09kvWV0ysxp4S2j6eWf/pbRVdsvGX5zMO4jbxlNp4/Pa18EREAEREAEREAERKDuCDzw9Mv28psfhApuHPiEvffwDcbzaAjCXquvZCzzfPWtkbbdJuvYvU88H5Zezj9Pe9tkrVVsic4L2Utvvm+vvf1h8DTtve3GNmbctznRt8jCC9gWiWfwlbdH2pQff7IJk6YkYrNNrjNdFupofTZcwyb8MNn+75URNnnqT+EcZS+a5MVbRVho/nlt6yTda+98aO9/PCbELb/0YrZh0r6ff55hT7zwun39/Q8hPv1f+7ZtQrmtW7eyLgt2tA1W+1M6SWjfyE++CPEb9lzRev5pWftozDh7+tU37adp00N8PhazFVbPEa/cfYUtl7CIw6l9dzU+9GmdvU+IT822/+XX39n1Ax4P8Vfc8YC9ef+1NuBvp9pKO/4llzZrvP1kyxYtbL0eK9gq3Zey5/73dvDK+jls/N4brG6M1YvD37P/vTMqPCrm5/ONYbclF7X1Vl3enn/9Hdtq/Z42/IOPwhxDtP5547WtZYvm9tCzrybzc8Xg2WR+EhZOlgbjiV4gubkx+OXh9uGnX4b4edq3tR0Tsfv6e6PsT8suEeLu++8LYdtY/2twQVgIXD5xR3y+c4XK0zkREAEREAEREAEREIHSCNTUW+ilfz9pchBnHRPBR9hvu01th83WtYmTptoC83UIRn3ruVrZ4JsuNETC5Kk/2jl/2cvO/cfddvVdDyfpN0tE1/y24g6zxMTe22xspx+ym62/70n2p2WWsKtOPdSOuOC6RGyNtZMP2jmIFgQez/jN276dHXTWVfbYkP9Z3522tC3WXS0nCJdcZOGQ9/Sr7wiCcJ9tN7G/n3KIjf3me2vdqpVdefIhtufJl9ngl4Z5V3JbBMQxe28XxF2P5ZexC47eN3du7jZzJeKiRVjGinjqf/rhRtm0aamkzl+Tn/5ebZdj7JsJP2SyqITnEk+4/BYbePmpwdub61iy8+NP041z1QmTpvwYxPyOyZjzLCbjBPt8441Ae/rmi6x927mT5cbj7Lwj90lE34e23dHn2y8zZwZhufm6PQK/sw7bw0YmAq3X/ifbjF9mBs75xnD9RGBy7uvvJtrCC8xn59/w72T/B/vvTRcE0cd4nLD/TmEO3vbgU+GGxarLLW33//0Ma9myebg5wDgzJ5mbCEXmnpf3TOKlliCszsxIpV19nqXDj9OnosPh3M3nMjx+6cC6ZML/Jn2UPmULtuowW5wiREAEREAEREAEREAE6ofAfImwwwPHds8+vYIBPmjwH94TXsrS/56HbWDiUflu4iR76JqzbK5WLcMzed8mhvm/+p0QhB0exUGDX7SLj9s/eIve+vDT4N1BaL330efB4xf36NBd+gSvT+/Dzw5ew0euO8e2XK9nEIRxuqz9dRPvEc85Hn7+dcEz+fYD19mRe26TKQjj/OTx5yO7LbGIPXvbxfb6h6OCOEDgLp54PM++9q6kv48YXqrX/n2lHbDD5va32+4PxaRZxGU31D6et91OvKSKKEQMEse56oZnEq8ognCNFbsFQXjDWUfmHe9tN1rL8ALveOyFwTt46K697YDtN7cVllk88QoubojBi28eaJff/p/gRXzk2nOCp5kxKGUMX0jaf+GN9waBd2nyBlWE3aHn9Q/jxVwZcPkpue7hpXx71Kd2WHIeb/Et5x9rB0ZjR0I81HD57Kuvc/ka606Degi7zt3Z+CiIgAiIgAiIgAiIgAg0DIHaegLjVt9z6UnxYfJikffstKvuqBKHQPr1198M7+DqiVB4c+QntnmyNI/wfbLcs03rucKyQJafXnTMfokQXD0sLe25wrLW758Dq5TlB8PeH20brbGyXX5iX3vwmZdt84NPD3X4+ULbIy+6Pngst0u8fyt1W9J+nvGL4SEqNdDeO/odb7xI56Czrw7eLMTCDsdcYEsv2il4A1kOO/PXX2cr11mUWld9pItFIfXVVAySF88eoUWyLLPYeI/44OPACM/gnY88k4zjK3ZT8lIiwkE7bhm2dz/2XBhX5tXWR5xj306cHOJLGcM7Hno6LAklw1ordUtuSEwONx04fiNZ/kn4LfHiElj2etuD/2drr9w9eKoX7jifsVSU8Zz2888hzcPPvRrmbjho5P81qCBs5OzUfBEQAREQAREQAREQgYjAedf/2z74ZIxNS8QRnhNeMJMvLN55QWuVvIwGI/sve2yTS/ZB4gVEPIz/boK9MPzd8NwYz6bxuNB//u+lXLp4Z/8z/m4n7LeDbZ8828USUZZf7n/GlcFrGKfL2r/krwfYwTtvZUPfeDd4hbLSFIpDhC631GK26/H9wrJT0iISH+5/VvBusaTw42S5JL+jXYlh5y3WtxvPOSp4R2kfouiYi28MSzU5xkP3yLVn5x7XQtgedt61Oe8oafIFluoSeN6v2Hjz7Cki+ojdtwlLcS/964F2z+PP2V8v/WdYzsnS0PHfTsxV5c+qElHdMUTcffLluJwAzBX6+w5ezRvOPipZlvqFvTzig6Tv6RRz1rEE4Zw1nuqNCIiACIiACIiACDQYgVff+iD3UplijRgz9tvgEeLnKbY89KxccpZSIjoILBu9Onlea78/b5q8DOTj8GxZLuHvOxj3m6y5it375BC78KYBYYkpywkvOGpf2+qws8JLYHi2b+42rcNLXeL3UPC82iE79w4vktnn1MtDiSt1XTK8CCZdT9bxnltvZDzbyDJGhJ8HXiaz5krdg3f0hoGzXrJy5J5/9tMVte26RJecGKRh8LnmtMPsqeRFKgREXcyM8SFPscALf/D88qzd6M+/srlatiw43vDi2c+9T/lbWPZ7/pF720GJuOcmAD/7wc0DPLdvvDc6tJeXFXHz4fV3R1d7DHlZ0Urdlgo3HqYnLxJKh6P2+rNNnDw18TSfETzGx++/o62f8QKhdL7GetwggnDSzJ/s658n1Tkz3lSqIAIiIAIiIAIiIAIiUHkEps+YYXc/+lxYUnlZ8kwXL4BZd9UVEi/fOrZp39ODeHskWZaHB27tVZazM/vfmdkJvJEImM/Gfm0nJi8+mTvxziFgfvz9jZ68cXSP5HlGXkjDb+PxUhgPvPVzzLhvgheMZ9RWSJ5V2zB52ySCtHnzwm4h3sZ5RdI2njHjuUaWnBI+SgQuAohlsZustXIQLfwEB4KmbSJKG0OAH8/VeYifA/W4rG3nBeYPApm3ye7eu1cYh70SgYfXsdh48/IXXip0znV3BzHaKnm2lMA48luTeJH7Hbt/8nKXh8LyYJ4xPPica8I8qe4YDnhyaHiu8Y6LjrfbH/o/222rDUNdLnx5oyhvOuVtuL/iEU3EJ4Gf1vAloyFiDvmvQQTh0R/eZnwUREAEREAEREAEREAEGpZA/GPzpeyXs7W86ZMXBu63/Wbh5ym+HP9deAuk/zwDXhoEXZ/k5wbyLRflmb+djrvIrjvjCHvyhvOTn6SYFl5Kct7194Sm4unixSOH7LKVHbZrn6ScF5P4FcI5hN+pV91uZx++p913xWn2/+3dCZBU1X7H8T87DM4AArKJEhYRFQUxqEgpwd0YFaQqWLxEUbBcKQJShYHSlI8oqVg8goBiUhikUETjU0FAwI2IKCAIyCYIggg+wsCwDQwzDLm/Q92mGbuHmeHentvT31M19nbvuac/p8vy5zn3nM3bf3UjnBrh+6tWpa9z0dvbzkKjjvqb+sehMRbdf6bv9a//+Y4LEn/+j9Eu4Oz8y14XPGMHRuTJlh27XQDWyF+y0u+203uD+1NGEx17SZtWNtHrB9X5v174nubdh6eRXb+U1t+TZs7xFpU530YM7OutMDrA7V2o/wngbwMx2At/Y71ppDO8+1T1u/ijt0CMv6hPeftwmhcCL29/kVudtKt3b+oH3v2qKgp/KuO8LTPUlinetNFD+fm2aOn3pqm1+h8GS74v/+I6rtII/6Oal9hP3T2ZgkZ+mbfeeq18IXalfk2vtUuyWlhe0RGb/OtC936rOufbg81vdM9n7vnajp44bgNb9LJi718WY7d/GDs3/knTWjn2h+Y9rZ23QE3hySJbfWi7vbNnqR0tPnXT58Zrx1nH+i3jT+E5AggggAACCCBQJQTiQ1xZv5C/kExZjy95XEWuWbKO+Nea0tkgO8st9BH/fnmfa/qoVsX0FzOJP1/TQ497o5IKkImKVgbVYjBBFo0yZmdl2YHDR4KsNlZXon4Mum9iFwvwSWn9LbOc+lku9CW6ZJOGOZbrLT6UKMKUpw+beaOZB72tToqKitx9qlrh1l8V1r+uprAqEGq0N+iSqO+CvkZZ66uUEUK/cQdO5NuYtn/vXi4/tNVtJfHMRXe7Dek35u+yf98x27pkt3HHnDhZnDAQ9mhwic29cqTl1Kzn6tFQr479897lsUDoX49HBBBAAAEEEEAAAbOohQYFOK36eK5Fe98lK9rMvrQSdBjUtRQkwgqDpX2XqH9WWn/LTCOAycpeb7uSZKWsfagN5/97zFC3kugJ77fX/86b3L2mWtk2vmRK31VqIFy4b63NyV1pf9ekm/3zxffZgxsm26AWvd184+FbpnujfaeWqlXH+HN64ztJz1/rOMiFwVl7vKVpdy2y+jXqWoes5nagKPm/EErWwWsEEEAAAQQQQAABBBDIDAHtjzhmyjvePYLXWoum57uFasb+17umab2ZWCo1EAp8xJYZdkfjLnZPk2vspXYPeIGujs3NXWXzcr8/a39o+d4O3jRRhcXFeRvss/3rznoOByCAAAIIIIAAAggggEDmCmi66ZR357m/zFU4/c2T3z16+phQn23ypoZO/OUTq+6Fuida3WZF3t2CwzYnXkWqZEN0E/LHXnhUmdhxoL3febjd0qhzycN4jQACCCCAAAIIIIAAAgggkECg0gOh2jT9t8Wxpq05vN0UEstaHt74mv3P/33rNvvs0/SvbWHXUfb25UOsRrVIfLWyfg2OQwABBBBAAAEEEEAAAQRSLhCJ1DSqTR+3UpAWg+mW3dabPtqtzBAHi45av7V/sk7fDLOpuz935/Vv1sOtTFrmSjgQAQQQQAABBBBAAAEEEMhAgUoPhH/T6HLr27S77Ss6bM9tm+W6YFyHf7Q61WuVqzu0KukjG6bY/NzV7rwr6rcu1/kcjAACCCCAAAIIIIAAAghkmkClLiqjaZ3jOzzozCfsnG/jf5lnQ1vf5e0n2Mz+yXuM33dQ9xiOvPjeWP8UFBfan36Za1M7PWabjuyydUd22oV1z7frctq7Y77ztrGgIIAAAggggAACVV2gVs0aVlh0emX2qv59+X6nBNTviQq/h0Qq0XovWd9VVisrNRA+2vJm6+yN5OV7G8hP2rnA8k8U2MvbZ9u/tR9gmkb6Zty9hVpRVKuQqmhlIE0Vfe3XRfaHZj2tVvWaZ2xO+a63BcWMv3xVWaZcFwEEEEAAAQQQSJlA984dbcmq9Sm7HheKhoD6PVHh95BIJVrvJeu7ymplSgOhQl182V2w3wZvfN12FOy13MJTm5FO+nWB9/ywt/GgWeNa2bbt6B4btHGKd9qZ5xaeLHIbz3dfMcp6NrzUmtVuYLsL8myFNzK47OCW+Msk3cPwjIN4gQACCCCAAAIIpKHAmCH/YLcNHs0oYRr2XUWbrBEm9Xuiwu8hkUp03iut7yqrldW80baTqbq4Ql/bpUPc6F6qrtm8dkPbev0Eq1ejdqouyXUQQAABBBBAAIGUCny/aauNnjDdlq3dRDBMqXxqL6YwodElhb4uHdsmvTi/h6Q0lfZBWfuuMhqY0kCoL6jFXxbmrrEib0XRsEttbyrp3zbuahfXbcIoYdjY1I8AAggggAACCCCAAAJpJ5DyQJh2QjQYAQQQQAABBBBAAAEEEKiiApW+7UQVdeVrIYAAAggggAACCCCAAAKRFyAQRr6LaCACCCCAAAIIIIAAAgggEI4AgTAcV2pFAAEEEEAAAQQQQAABBCIvQCCMfBfRQAQQQAABBBBAAAEEEEAgHAECYTiu1IoAAggggAACCCCAAAIIRF6AQBj5LqKBCCCAAAIIIIAAAggggEA4AgTCcFypFQEEEEAAAQQQQAABBBCIvACBMPJdRAMRQAABBBBAAAEEEEAAgXAECIThuFIrAggggAACCCCAAAIIIBB5AQJh5LuIBiKAAAIIIIAAAggggAAC4QgQCMNxpVYEEEAAAQQQQAABBBBAIPICBMLIdxENRAABBBBAAAEEEEAAAQTCESAQhuNKrQgggAACCCCAAAIIIIBA5AUIhJHvIhqIAAIIIIAAAggggAACCIQjQCAMx5VaEUAAAQQQQAABBBBAAIHICxAII99FNBABBBBAAAEEEEAAAQQQCEeAQBiOK7UigAACCCCAAAIIIIAAApEXIBBGvotoIAIIIIAAAggggAACCCAQjgCBMBxXakUAAQQQQAABBBBAAAEEIi9AIIx8F9FABBBAAAEEEEAAAQQQQCAcAQJhOK7UigACCCCAAAIIIIAAAghEXoBAGPkuooEIIIAAAggggAACCCCAQDgCBMJwXKkVAQQQQAABBBBAAAEEEIi8AIEw8l1EAxFAAAEEEEAAAQQQQACBcAQIhOG4UisCCCCAAAIIIIAAAgggEHkBAmHku4gGIoAAAggggAACCCCAAALhCBAIw3GlVgQQQAABBBBAAAEEEEAg8gIEwsh3EQ1EAAEEEEAAAQQQQAABBMIRIBCG40qtCCCAAAIIIIAAAggggEDkBQiEke8iGogAAggggAACCCCAAAIIhCNAIAzHlVoRQAABBBBAAAEEEEAAgcgLEAgj30U0EAEEEEAAAQQQQAABBBAIR4BAGI4rtSKAAAIIIIAAAggggAACkRdI+0B47NgxKygoiDx0ujYQ33TtOdqNAAIIIIAAAggggMDZBaqd9MrZD4vmEQcOHLC8vDxr0KCBFRYW2pEjR6y4uDiajT3HVlWrVs1q165tOTk5lp2dfY61le30quxbGZ5lU+coBBBAAAEEEEAAAQRSJ5C2gVBh5eDBg9awYUPTf9xX9aLcfvz4ccvPz3ff98ILLwz1K1d131R7htpZVI4AAggggAACCCCAQAUF0nLKaFUPK4n6UqG3Tp06bjRUYebQoUOJDgvkvUzwTaVnIJ1CJQgggAACCCCAAAIIhCCQdoEwE8JKaf1cvXp1y8rKCi0QZppv2J6l9SWfIYAAAggggAACCCBQ2QJpFQgzLawk+3HoXsIwFtLJVN+wPJP1H+8jgAACCCCAAAIIIBAVgbQJhJkaVhL9UDTdMei1gDLZNwzPRP3GewgggAACCCCAAAIIRE0gLQJhJoeVVPxg8E2FMtdAAAEEEEAAAQQQQCB6ApEPhISVcH80+IbrS+0IIIAAAggggAACCERZoMa/eCWqDYxqWPnoo49s5cqV1rlz59/R9e3b1w4fPmxXX3117LOff/7Zli9fbu3atYu9py0zZs+ebQsWLLCioiK76KKLYp+V5Yn2XGzUqFFZDk16TJC++j7Tpk2zTZs2/c5l48aN9v777zuXNm3a2DfffGOffvqpdenSxR2vz5o3b+72WFRjjx07ZlOnTrXzzjvPmjRp4tr/448/Oi+dq9KyZUv36P9j586dNnPmTGvRokWF9mkMwtNvC48IIIAAAggggAACCKSLQGRHCIMMK0F3xokTJ0x/ZysKe48++qg99NBDNnfu3Njh2k9wxIgRNmvWLNP3fO6552zhwoWxz1PxJGhfBaq33nrLXn/9ddu6desZX2HGjBnuMz/MrVq1yt577z13jI7VeS+//HLsHAVCvffTTz+598aNG2dPP/20bd++3RSuR44c6cJf7ATvyQcffODO+fDDD+Pf5jkCCCCAAAIIIIAAAgiUIhDJQBh0WPG//65du+zjjz+2devW+W+5RwWQb7/91n2mY1T27t1rn332mdsIXq/z8vLca42EdejQwa644gq97YpGr+bPn28KRfFF799+++1njBbq8zVr1riRsbFjx9rzzz9vd999t33++efxp4b6PCxfNbp+/frOwv8CutbSpUvd+/57iR4VEmVYshQXF9u8efOckaxkdtddd5mCn7+wjkZYFy1a5EZgFcLLEtZLXofXCCCAAAIIIIAAAghkokDkAmFYYWXt2rU2cOBAN7L07LPP2lNPPeX6WyHuiSeesBdeeMGNMGk0b/Xq1VajRg0bM2aMLVmyxB2nETyNYmlzeI3saXqkytdff22PPfaYvfHGG/bAAw+YAqNfdI3777/fTX3039Njbm6uaf87f9qjpp5qCmphYWH8YaE8D8vXb2zPnj3daKcfyhTUNO2zffv2/iEJH3v37m2TJ092I6bxB8ipdevWLlT+8MMP7qNhw4bZ22+/bVodVEWB89ChQzZq1Ch3vj8S6T7kHwgggAACCCCAAAIIIJBUIFKBUFMpNRLXsGHD2H/sx7dcAU1/FSkaGbzqqqvszTffdPen7dixwzZs2ODCnUYFFTCmT59u11xzjZvOqPvzdB+gwoaKHm+44QYXCOOvrxEp1aspjq+++qppT7uzle7du7tD5syZ4/YT/O6779x9c0ePHj3bqef0eZi+fsN69Ohh+h5+KNOo35133nnWfRMffvhhq1evnguFfl3+o/q8QYMGLsQPHjzYTb/1Rwd1jK6hfmvbtq117drVjSj65/KIAAIIIIAAAggggAACyQUiFQiTN/PcPtG0w6+++sq6devmgqZGrLQwTKdOnWz9+vV22WWXuQVNNBqlQKNRP40c3nzzzbZs2TI36qdpnnodXxRKVqxY4YKjRhRbtWpldevWjT8k4XOFzUceecSF0/79+7t747KysmKLqiQ8KU3elGGvXr1cSNM9gPq74447XOAt7SsoDA4dOtQ++eQTN1oaf6xGUhW29adFaXRP4YQJE9wh+/fvd+Hz0ksvdddSnyqM6n8sUBBAAAEEEEAAAQQQQKB0gZqlf5zaTzW6ptHBZKOEo0ePrlCDFFIUAjWt0C8KEgohuqbuF/TLvn37rFatWi7Y3XjjjS58aMVLBTaNQsUXTVlUvRUZ2RswYID169fP3Qf3zDPPuFAaX3cYz8PyjW+rpr1qRHD48OHOUKOszZo1cyupxh+X6Pn1119vN910k73yyiuxj3fv3u1Gce+9914X4DUtVKuPapEeLTTj3zOoKbz+NF6drKmq8qUggAACCCCAAAIIIIBAcoHIjRBqamBOTo4LhfHTApN/hbJ9oqDx5Zdf2pYtW2zx4sXWp08f27x5sxsR1KO2QdAiMHpUiNGInxZIue6669xoos6vWfP3+VnTP7/44gu3UI22PYi/h7C0lik4aaro+PHj3dRVTZlMRQnLN77tV155pV1wwQXuXkItAFOeMmTIENPUVr80btzYhb5Jkya5hXg04qhtLPQbUdDXdFH1jRYA8v80tVcL0VAQQAABBBBAAAEEEECgdIHIBUI1N4zQcs8997h9+wYNGmQvvfSSKYBpMReNZmnvQK1e+fjjj5sCiLY18Mstt9ximnJacrqo//l9993ngqKCjMKKzi9LUTB98cUX7bfffrOJEyemZITQb1cYvn7detTIqVyzs7NNi8yUp8hPW3X4RaOa8vEX/3nyySddP2r7TO15uG3bNtc3Cof+36233ur6QgGfggACCCCAAAIIIIAAAskFqnmjcCeTf1y5n4SxImZ+fr6byqjwEF+0dYH+ynIPYPx5/nNtXVGec8Xur5Lp11Gexz179rhFVMpzTsljw/AteY0gX2vkUGaa0ht0CcIz6DZRHwIIIIAAAggggAACYQv8fg5k2FcsR/0ayVJJdk9hOaqKHap7ARMVTQdNNCU00bGJ3itPGNT55xIGE12/Iu+F4VuRdpT1HI0WUhBAAAEEEEAAAQQQQCA4gTOHyYKrN7Cawp7eGFhD07QifNO042g2AggggAACCCCAAAIBCEQ+EOo7EloC6OlSqsC3FBw+QgABBBBAAAEEEECgCgukRSCUP6Hl9K/wXO8/PF3T6WeZ7BuG52lZniGAAAIIIIAAAgggEF2BtAmEIszk0BL/E9LiKnXq1Il/K5DnmeoblmcgnUIlCCCAAAIIIIAAAgiEKJBWgVAOmRpa/N+ARrO0Uqq2dAijZJpv2J5h9BF1IoAAAggggAACCCAQlECkVxlN9iUVWlSCXH002bWi8r6Ci0ayFAa1QmlYgVDfNxN8U+kZld8Q7UAAAQQQQAABBBBAoKRApPchLNnYkq+1j55CYU5OjttDUJuXaxP5qlgUArXtgr5rmGEw3q4q+1aGZ7wtzxFAAAEEEEAAAQQQiIJAWgdCARYUFJhGe8q7D2AU8NOhDfimQy/RRgQQQAABBBBAAAEEKiaQ9oGwYl+bsxBAAAEEEEAAAQQQQAABBNJuURm6DAEEEEAAAQQQQAABBBBAIBgBAmEwjtSCAAIIIIAAAggggAACCKSdAIEw7bqMBiOAAAIIIIAAAggggAACwQgQCINxpBYEEEAAAQQQQAABBBBAIO0ECIRp12UdvcBTAAAAnUlEQVQ0GAEEEEAAAQQQQAABBBAIRoBAGIwjtSCAAAIIIIAAAggggAACaSdAIEy7LqPBCCCAAAIIIIAAAggggEAwAgTCYBypBQEEEEAAAQQQQAABBBBIOwECYdp1GQ1GAAEEEEAAAQQQQAABBIIRIBAG40gtCCCAAAIIIIAAAggggEDaCRAI067LaDACCCCAAAIIIIAAAgggEIzA/wOy/3/aoIe25gAAAABJRU5ErkJggg==)\n"
      ],
      "metadata": {
        "id": "ddf-xMSclXA-"
      }
    },
    {
      "cell_type": "code",
      "execution_count": 5,
      "metadata": {
        "id": "-d1GssS9i18V"
      },
      "outputs": [],
      "source": [
        "covid = pd.read_csv('positivos_covid.csv', delimiter = ';')\n"
      ]
    },
    {
      "cell_type": "code",
      "source": [
        "covid['MES_RESULTADO'] = covid.FECHA_RESULTADO.apply(lambda x: str(x)[:6])\n",
        "covid.head()\n"
      ],
      "metadata": {
        "id": "SCLlqBHDpnKA",
        "outputId": "75ab7891-ec0d-4676-e520-692db5ee7075",
        "colab": {
          "base_uri": "https://localhost:8080/",
          "height": 285
        }
      },
      "execution_count": 12,
      "outputs": [
        {
          "output_type": "execute_result",
          "data": {
            "text/plain": [
              "   FECHA_CORTE DEPARTAMENTO             PROVINCIA                DISTRITO  \\\n",
              "0     20230220  LA LIBERTAD              TRUJILLO            LA ESPERANZA   \n",
              "1     20230220     AMAZONAS  RODRIGUEZ DE MENDOZA      MARISCAL BENAVIDES   \n",
              "2     20230220         LIMA                  LIMA  SAN JUAN DE MIRAFLORES   \n",
              "3     20230220         LIMA                  LIMA             JESUS MARIA   \n",
              "4     20230220         LIMA                  LIMA                     ATE   \n",
              "\n",
              "  METODODX  EDAD       SEXO  FECHA_RESULTADO    UBIGEO  id_persona  \\\n",
              "0      PCR  70.0  MASCULINO       20200825.0  130105.0  13901805.0   \n",
              "1       AG  60.0   FEMENINO       20210105.0   10607.0  13902198.0   \n",
              "2       PR  41.0   FEMENINO       20200823.0  150133.0  13902265.0   \n",
              "3       AG  25.0  MASCULINO       20211222.0  150113.0  13902282.0   \n",
              "4       AG  25.0   FEMENINO       20210222.0  150103.0  13902393.0   \n",
              "\n",
              "  MES_RESULTADO  \n",
              "0        202008  \n",
              "1        202101  \n",
              "2        202008  \n",
              "3        202112  \n",
              "4        202102  "
            ],
            "text/html": [
              "\n",
              "  <div id=\"df-27d4a69f-5153-4e81-95ea-1fb000343c66\">\n",
              "    <div class=\"colab-df-container\">\n",
              "      <div>\n",
              "<style scoped>\n",
              "    .dataframe tbody tr th:only-of-type {\n",
              "        vertical-align: middle;\n",
              "    }\n",
              "\n",
              "    .dataframe tbody tr th {\n",
              "        vertical-align: top;\n",
              "    }\n",
              "\n",
              "    .dataframe thead th {\n",
              "        text-align: right;\n",
              "    }\n",
              "</style>\n",
              "<table border=\"1\" class=\"dataframe\">\n",
              "  <thead>\n",
              "    <tr style=\"text-align: right;\">\n",
              "      <th></th>\n",
              "      <th>FECHA_CORTE</th>\n",
              "      <th>DEPARTAMENTO</th>\n",
              "      <th>PROVINCIA</th>\n",
              "      <th>DISTRITO</th>\n",
              "      <th>METODODX</th>\n",
              "      <th>EDAD</th>\n",
              "      <th>SEXO</th>\n",
              "      <th>FECHA_RESULTADO</th>\n",
              "      <th>UBIGEO</th>\n",
              "      <th>id_persona</th>\n",
              "      <th>MES_RESULTADO</th>\n",
              "    </tr>\n",
              "  </thead>\n",
              "  <tbody>\n",
              "    <tr>\n",
              "      <th>0</th>\n",
              "      <td>20230220</td>\n",
              "      <td>LA LIBERTAD</td>\n",
              "      <td>TRUJILLO</td>\n",
              "      <td>LA ESPERANZA</td>\n",
              "      <td>PCR</td>\n",
              "      <td>70.0</td>\n",
              "      <td>MASCULINO</td>\n",
              "      <td>20200825.0</td>\n",
              "      <td>130105.0</td>\n",
              "      <td>13901805.0</td>\n",
              "      <td>202008</td>\n",
              "    </tr>\n",
              "    <tr>\n",
              "      <th>1</th>\n",
              "      <td>20230220</td>\n",
              "      <td>AMAZONAS</td>\n",
              "      <td>RODRIGUEZ DE MENDOZA</td>\n",
              "      <td>MARISCAL BENAVIDES</td>\n",
              "      <td>AG</td>\n",
              "      <td>60.0</td>\n",
              "      <td>FEMENINO</td>\n",
              "      <td>20210105.0</td>\n",
              "      <td>10607.0</td>\n",
              "      <td>13902198.0</td>\n",
              "      <td>202101</td>\n",
              "    </tr>\n",
              "    <tr>\n",
              "      <th>2</th>\n",
              "      <td>20230220</td>\n",
              "      <td>LIMA</td>\n",
              "      <td>LIMA</td>\n",
              "      <td>SAN JUAN DE MIRAFLORES</td>\n",
              "      <td>PR</td>\n",
              "      <td>41.0</td>\n",
              "      <td>FEMENINO</td>\n",
              "      <td>20200823.0</td>\n",
              "      <td>150133.0</td>\n",
              "      <td>13902265.0</td>\n",
              "      <td>202008</td>\n",
              "    </tr>\n",
              "    <tr>\n",
              "      <th>3</th>\n",
              "      <td>20230220</td>\n",
              "      <td>LIMA</td>\n",
              "      <td>LIMA</td>\n",
              "      <td>JESUS MARIA</td>\n",
              "      <td>AG</td>\n",
              "      <td>25.0</td>\n",
              "      <td>MASCULINO</td>\n",
              "      <td>20211222.0</td>\n",
              "      <td>150113.0</td>\n",
              "      <td>13902282.0</td>\n",
              "      <td>202112</td>\n",
              "    </tr>\n",
              "    <tr>\n",
              "      <th>4</th>\n",
              "      <td>20230220</td>\n",
              "      <td>LIMA</td>\n",
              "      <td>LIMA</td>\n",
              "      <td>ATE</td>\n",
              "      <td>AG</td>\n",
              "      <td>25.0</td>\n",
              "      <td>FEMENINO</td>\n",
              "      <td>20210222.0</td>\n",
              "      <td>150103.0</td>\n",
              "      <td>13902393.0</td>\n",
              "      <td>202102</td>\n",
              "    </tr>\n",
              "  </tbody>\n",
              "</table>\n",
              "</div>\n",
              "      <button class=\"colab-df-convert\" onclick=\"convertToInteractive('df-27d4a69f-5153-4e81-95ea-1fb000343c66')\"\n",
              "              title=\"Convert this dataframe to an interactive table.\"\n",
              "              style=\"display:none;\">\n",
              "        \n",
              "  <svg xmlns=\"http://www.w3.org/2000/svg\" height=\"24px\"viewBox=\"0 0 24 24\"\n",
              "       width=\"24px\">\n",
              "    <path d=\"M0 0h24v24H0V0z\" fill=\"none\"/>\n",
              "    <path d=\"M18.56 5.44l.94 2.06.94-2.06 2.06-.94-2.06-.94-.94-2.06-.94 2.06-2.06.94zm-11 1L8.5 8.5l.94-2.06 2.06-.94-2.06-.94L8.5 2.5l-.94 2.06-2.06.94zm10 10l.94 2.06.94-2.06 2.06-.94-2.06-.94-.94-2.06-.94 2.06-2.06.94z\"/><path d=\"M17.41 7.96l-1.37-1.37c-.4-.4-.92-.59-1.43-.59-.52 0-1.04.2-1.43.59L10.3 9.45l-7.72 7.72c-.78.78-.78 2.05 0 2.83L4 21.41c.39.39.9.59 1.41.59.51 0 1.02-.2 1.41-.59l7.78-7.78 2.81-2.81c.8-.78.8-2.07 0-2.86zM5.41 20L4 18.59l7.72-7.72 1.47 1.35L5.41 20z\"/>\n",
              "  </svg>\n",
              "      </button>\n",
              "      \n",
              "  <style>\n",
              "    .colab-df-container {\n",
              "      display:flex;\n",
              "      flex-wrap:wrap;\n",
              "      gap: 12px;\n",
              "    }\n",
              "\n",
              "    .colab-df-convert {\n",
              "      background-color: #E8F0FE;\n",
              "      border: none;\n",
              "      border-radius: 50%;\n",
              "      cursor: pointer;\n",
              "      display: none;\n",
              "      fill: #1967D2;\n",
              "      height: 32px;\n",
              "      padding: 0 0 0 0;\n",
              "      width: 32px;\n",
              "    }\n",
              "\n",
              "    .colab-df-convert:hover {\n",
              "      background-color: #E2EBFA;\n",
              "      box-shadow: 0px 1px 2px rgba(60, 64, 67, 0.3), 0px 1px 3px 1px rgba(60, 64, 67, 0.15);\n",
              "      fill: #174EA6;\n",
              "    }\n",
              "\n",
              "    [theme=dark] .colab-df-convert {\n",
              "      background-color: #3B4455;\n",
              "      fill: #D2E3FC;\n",
              "    }\n",
              "\n",
              "    [theme=dark] .colab-df-convert:hover {\n",
              "      background-color: #434B5C;\n",
              "      box-shadow: 0px 1px 3px 1px rgba(0, 0, 0, 0.15);\n",
              "      filter: drop-shadow(0px 1px 2px rgba(0, 0, 0, 0.3));\n",
              "      fill: #FFFFFF;\n",
              "    }\n",
              "  </style>\n",
              "\n",
              "      <script>\n",
              "        const buttonEl =\n",
              "          document.querySelector('#df-27d4a69f-5153-4e81-95ea-1fb000343c66 button.colab-df-convert');\n",
              "        buttonEl.style.display =\n",
              "          google.colab.kernel.accessAllowed ? 'block' : 'none';\n",
              "\n",
              "        async function convertToInteractive(key) {\n",
              "          const element = document.querySelector('#df-27d4a69f-5153-4e81-95ea-1fb000343c66');\n",
              "          const dataTable =\n",
              "            await google.colab.kernel.invokeFunction('convertToInteractive',\n",
              "                                                     [key], {});\n",
              "          if (!dataTable) return;\n",
              "\n",
              "          const docLinkHtml = 'Like what you see? Visit the ' +\n",
              "            '<a target=\"_blank\" href=https://colab.research.google.com/notebooks/data_table.ipynb>data table notebook</a>'\n",
              "            + ' to learn more about interactive tables.';\n",
              "          element.innerHTML = '';\n",
              "          dataTable['output_type'] = 'display_data';\n",
              "          await google.colab.output.renderOutput(dataTable, element);\n",
              "          const docLink = document.createElement('div');\n",
              "          docLink.innerHTML = docLinkHtml;\n",
              "          element.appendChild(docLink);\n",
              "        }\n",
              "      </script>\n",
              "    </div>\n",
              "  </div>\n",
              "  "
            ]
          },
          "metadata": {},
          "execution_count": 12
        }
      ]
    },
    {
      "cell_type": "code",
      "source": [
        "df = covid.groupby([\"MES_RESULTADO\", \"PROVINCIA\"])[[\"id_persona\"]].aggregate(['count']).reset_index()\n",
        "df.columns = df.columns.droplevel(-1)\n",
        "df.sort_values(by = 'id_persona', ascending = False, inplace = True)\n",
        "print(df)"
      ],
      "metadata": {
        "id": "MYZtEo9DvUnG",
        "outputId": "b7e2052f-4c3e-4b31-f0bf-022f3a46f6b0",
        "colab": {
          "base_uri": "https://localhost:8080/"
        }
      },
      "execution_count": 23,
      "outputs": [
        {
          "output_type": "stream",
          "name": "stdout",
          "text": [
            "     MES_RESULTADO    PROVINCIA  id_persona\n",
            "4199        202201         LIMA      423940\n",
            "5265        202207         LIMA      122613\n",
            "2269        202103         LIMA       95685\n",
            "2072        202102         LIMA       89640\n",
            "5461        202208         LIMA       82126\n",
            "...            ...          ...         ...\n",
            "217         202005      ATALAYA           0\n",
            "3369        202109       CAÑETE           0\n",
            "5844        202210  PUERTO INCA           0\n",
            "6266        202301      CHUPACA           0\n",
            "5046        202206     HUALLAGA           0\n",
            "\n",
            "[6525 rows x 3 columns]\n"
          ]
        }
      ]
    },
    {
      "cell_type": "code",
      "source": [
        "df.log[\"PROVINCIA\", \"LIMA\"]"
      ],
      "metadata": {
        "id": "oNW7QLuE1Yhs",
        "outputId": "5bcdd493-453d-4854-8c73-77017dd1f872",
        "colab": {
          "base_uri": "https://localhost:8080/",
          "height": 287
        }
      },
      "execution_count": 19,
      "outputs": [
        {
          "output_type": "error",
          "ename": "AttributeError",
          "evalue": "ignored",
          "traceback": [
            "\u001b[0;31m---------------------------------------------------------------------------\u001b[0m",
            "\u001b[0;31mAttributeError\u001b[0m                            Traceback (most recent call last)",
            "\u001b[0;32m<ipython-input-19-c2538c45ae76>\u001b[0m in \u001b[0;36m<module>\u001b[0;34m\u001b[0m\n\u001b[0;32m----> 1\u001b[0;31m \u001b[0mdf\u001b[0m\u001b[0;34m.\u001b[0m\u001b[0mlog\u001b[0m\u001b[0;34m[\u001b[0m\u001b[0;34m\"PROVINCIA\"\u001b[0m\u001b[0;34m,\u001b[0m \u001b[0;34m\"LIMA\"\u001b[0m\u001b[0;34m]\u001b[0m\u001b[0;34m\u001b[0m\u001b[0;34m\u001b[0m\u001b[0m\n\u001b[0m",
            "\u001b[0;32m/usr/local/lib/python3.9/dist-packages/pandas/core/generic.py\u001b[0m in \u001b[0;36m__getattr__\u001b[0;34m(self, name)\u001b[0m\n\u001b[1;32m   5485\u001b[0m         ):\n\u001b[1;32m   5486\u001b[0m             \u001b[0;32mreturn\u001b[0m \u001b[0mself\u001b[0m\u001b[0;34m[\u001b[0m\u001b[0mname\u001b[0m\u001b[0;34m]\u001b[0m\u001b[0;34m\u001b[0m\u001b[0;34m\u001b[0m\u001b[0m\n\u001b[0;32m-> 5487\u001b[0;31m         \u001b[0;32mreturn\u001b[0m \u001b[0mobject\u001b[0m\u001b[0;34m.\u001b[0m\u001b[0m__getattribute__\u001b[0m\u001b[0;34m(\u001b[0m\u001b[0mself\u001b[0m\u001b[0;34m,\u001b[0m \u001b[0mname\u001b[0m\u001b[0;34m)\u001b[0m\u001b[0;34m\u001b[0m\u001b[0;34m\u001b[0m\u001b[0m\n\u001b[0m\u001b[1;32m   5488\u001b[0m \u001b[0;34m\u001b[0m\u001b[0m\n\u001b[1;32m   5489\u001b[0m     \u001b[0;32mdef\u001b[0m \u001b[0m__setattr__\u001b[0m\u001b[0;34m(\u001b[0m\u001b[0mself\u001b[0m\u001b[0;34m,\u001b[0m \u001b[0mname\u001b[0m\u001b[0;34m:\u001b[0m \u001b[0mstr\u001b[0m\u001b[0;34m,\u001b[0m \u001b[0mvalue\u001b[0m\u001b[0;34m)\u001b[0m \u001b[0;34m->\u001b[0m \u001b[0;32mNone\u001b[0m\u001b[0;34m:\u001b[0m\u001b[0;34m\u001b[0m\u001b[0;34m\u001b[0m\u001b[0m\n",
            "\u001b[0;31mAttributeError\u001b[0m: 'DataFrame' object has no attribute 'log'"
          ]
        }
      ]
    },
    {
      "cell_type": "markdown",
      "source": [
        "---\n",
        "\n",
        "4. **(3 puntos)** En el dataset de Titanic train [enlace](https://www.kaggle.com/c/titanic/overview) visto en clase, realice un gráfico de cajas sobre la variable Fare (Costo del ticket), ¿qué observa?, ¿Hay outliers?, ¿Qué tratamiento recomendaría?"
      ],
      "metadata": {
        "id": "XGmOIp9SnK1m"
      }
    },
    {
      "cell_type": "code",
      "source": [
        "titanic = pd.read_csv('train_titanic.csv')\n",
        "titanic.head()"
      ],
      "metadata": {
        "id": "LK7iA4NYoLNa"
      },
      "execution_count": null,
      "outputs": []
    },
    {
      "cell_type": "code",
      "source": [
        "sns.set_theme(style=\"whitegrid\")\n",
        "ax = sns.boxplot(data=titanic.Fare, orient=\"h\")"
      ],
      "metadata": {
        "id": "2Mv9hA9v0YQo",
        "outputId": "0f2f460d-3b82-4f8e-804d-50d03d229e2a",
        "colab": {
          "base_uri": "https://localhost:8080/",
          "height": 268
        }
      },
      "execution_count": null,
      "outputs": [
        {
          "output_type": "display_data",
          "data": {
            "text/plain": [
              "<Figure size 432x288 with 1 Axes>"
            ],
            "image/png": "[encoded data removed]"
          },
          "metadata": {}
        }
      ]
    },
    {
      "cell_type": "markdown",
      "source": [
        "Observo una grafica que me muestra que en la base de datos hay muchos outliers, lo que recomiendo es cortar los outlaiers de la derecha, los pondremos como si tubiran un valor de 80 "
      ],
      "metadata": {
        "id": "_UC_wB546eVG"
      }
    },
    {
      "cell_type": "markdown",
      "source": [
        "---\n",
        "\n",
        "# Gracias por completar este examen!\n",
        "\n",
        "---\n",
        "\n"
      ],
      "metadata": {
        "id": "n1bGhl4joOuu"
      }
    }
  ]
}